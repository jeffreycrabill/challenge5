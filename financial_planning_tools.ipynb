{
 "cells": [
  {
   "cell_type": "markdown",
   "metadata": {},
   "source": [
    "# Financial Planning with APIs and Simulations\n",
    "\n",
    "In this Challenge, you’ll create two financial analysis tools by using a single Jupyter notebook:\n",
    "\n",
    "Part 1: A financial planner for emergencies. The members will be able to use this tool to visualize their current savings. The members can then determine if they have enough reserves for an emergency fund.\n",
    "\n",
    "Part 2: A financial planner for retirement. This tool will forecast the performance of their retirement portfolio in 30 years. To do this, the tool will make an Alpaca API call via the Alpaca SDK to get historical price data for use in Monte Carlo simulations.\n",
    "\n",
    "You’ll use the information from the Monte Carlo simulation to answer questions about the portfolio in your Jupyter notebook.\n",
    "\n"
   ]
  },
  {
   "cell_type": "code",
   "execution_count": 54,
   "metadata": {},
   "outputs": [],
   "source": [
    "# Import the required libraries and dependencies\n",
    "import os\n",
    "import requests\n",
    "import json\n",
    "import pandas as pd\n",
    "from dotenv import load_dotenv\n",
    "import alpaca_trade_api as tradeapi\n",
    "from MCForecastTools import MCSimulation\n",
    "import warnings\n",
    "warnings.filterwarnings('ignore')\n",
    "warnings.simplefilter('ignore')\n",
    "%matplotlib inline"
   ]
  },
  {
   "cell_type": "code",
   "execution_count": 55,
   "metadata": {},
   "outputs": [
    {
     "data": {
      "text/plain": [
       "True"
      ]
     },
     "execution_count": 55,
     "metadata": {},
     "output_type": "execute_result"
    }
   ],
   "source": [
    "# Load the environment variables from the .env file\n",
    "#by calling the load_dotenv function\n",
    "load_dotenv(dotenv_path=\"./APIKEYS.env\")\n"
   ]
  },
  {
   "cell_type": "markdown",
   "metadata": {},
   "source": [
    "## Part 1: Create a Financial Planner for Emergencies"
   ]
  },
  {
   "cell_type": "markdown",
   "metadata": {},
   "source": [
    "### Evaluate the Cryptocurrency Wallet by Using the Requests Library\n",
    "\n",
    "In this section, you’ll determine the current value of a member’s cryptocurrency wallet. You’ll collect the current prices for the Bitcoin and Ethereum cryptocurrencies by using the Python Requests library. For the prototype, you’ll assume that the member holds the 1.2 Bitcoins (BTC) and 5.3 Ethereum coins (ETH). To do all this, complete the following steps:\n",
    "\n",
    "1. Create a variable named `monthly_income`, and set its value to `12000`.\n",
    "\n",
    "2. Use the Requests library to get the current price (in US dollars) of Bitcoin (BTC) and Ethereum (ETH) by using the API endpoints that the starter code supplies.\n",
    "\n",
    "3. Navigate the JSON response object to access the current price of each coin, and store each in a variable.\n",
    "\n",
    "    > **Hint** Note the specific identifier for each cryptocurrency in the API JSON response. The Bitcoin identifier is `1`, and the Ethereum identifier is `1027`.\n",
    "\n",
    "4. Calculate the value, in US dollars, of the current amount of each cryptocurrency and of the entire cryptocurrency wallet.\n",
    "\n"
   ]
  },
  {
   "cell_type": "code",
   "execution_count": 56,
   "metadata": {},
   "outputs": [],
   "source": [
    "# The current number of coins for each cryptocurrency asset held in the portfolio.\n",
    "btc_coins = 1.2\n",
    "eth_coins = 5.3"
   ]
  },
  {
   "cell_type": "markdown",
   "metadata": {},
   "source": [
    "#### Step 1: Create a variable named `monthly_income`, and set its value to `12000`."
   ]
  },
  {
   "cell_type": "code",
   "execution_count": 57,
   "metadata": {},
   "outputs": [],
   "source": [
    "# The monthly amount for the member's household income\n",
    "monthly_income = 12000\n"
   ]
  },
  {
   "cell_type": "markdown",
   "metadata": {},
   "source": [
    "#### Review the endpoint URLs for the API calls to Free Crypto API in order to get the current pricing information for both BTC and ETH."
   ]
  },
  {
   "cell_type": "code",
   "execution_count": 58,
   "metadata": {},
   "outputs": [],
   "source": [
    "# The Free Crypto API Call endpoint URLs for the held cryptocurrency assets\n",
    "btc_url = \"https://api.alternative.me/v2/ticker/Bitcoin/?convert=USD\"\n",
    "eth_url = \"https://api.alternative.me/v2/ticker/Ethereum/?convert=USD\""
   ]
  },
  {
   "cell_type": "markdown",
   "metadata": {},
   "source": [
    "#### Step 2. Use the Requests library to get the current price (in US dollars) of Bitcoin (BTC) and Ethereum (ETH) by using the API endpoints that the starter code supplied."
   ]
  },
  {
   "cell_type": "code",
   "execution_count": 59,
   "metadata": {},
   "outputs": [
    {
     "name": "stdout",
     "output_type": "stream",
     "text": [
      "{\n",
      "  \"data\": {\n",
      "    \"1\": {\n",
      "      \"circulating_supply\": 19211693,\n",
      "      \"id\": 1,\n",
      "      \"last_updated\": 1668880199,\n",
      "      \"max_supply\": 21000000,\n",
      "      \"name\": \"Bitcoin\",\n",
      "      \"quotes\": {\n",
      "        \"USD\": {\n",
      "          \"market_cap\": 319348463016,\n",
      "          \"percent_change_1h\": -0.316777708709752,\n",
      "          \"percent_change_24h\": 0.114506875623007,\n",
      "          \"percent_change_7d\": -2.72333837981028,\n",
      "          \"percentage_change_1h\": -0.316777708709752,\n",
      "          \"percentage_change_24h\": 0.114506875623007,\n",
      "          \"percentage_change_7d\": -2.72333837981028,\n",
      "          \"price\": 16615.06,\n",
      "          \"volume_24h\": 12327924770\n",
      "        }\n",
      "      },\n",
      "      \"rank\": 1,\n",
      "      \"symbol\": \"BTC\",\n",
      "      \"total_supply\": 19211693,\n",
      "      \"website_slug\": \"bitcoin\"\n",
      "    }\n",
      "  },\n",
      "  \"metadata\": {\n",
      "    \"error\": null,\n",
      "    \"num_cryptocurrencies\": 3119,\n",
      "    \"timestamp\": 1668880199\n",
      "  }\n",
      "}\n"
     ]
    }
   ],
   "source": [
    "# Using the Python requests library, make an API call to access the current price of BTC\n",
    "btc_response = requests.get(btc_url).json()\n",
    "\n",
    "\n",
    "\n",
    "\n",
    "# Use the json.dumps function to review the response data from the API call\n",
    "# Use the indent and sort_keys parameters to make the response object readable\n",
    "print(json.dumps(btc_response, indent=2, sort_keys=True))\n"
   ]
  },
  {
   "cell_type": "code",
   "execution_count": 60,
   "metadata": {},
   "outputs": [
    {
     "name": "stdout",
     "output_type": "stream",
     "text": [
      "{\n",
      "  \"data\": {\n",
      "    \"1027\": {\n",
      "      \"circulating_supply\": 120514870,\n",
      "      \"id\": 1027,\n",
      "      \"last_updated\": 1668880190,\n",
      "      \"max_supply\": 120514870,\n",
      "      \"name\": \"Ethereum\",\n",
      "      \"quotes\": {\n",
      "        \"USD\": {\n",
      "          \"market_cap\": 145622223714,\n",
      "          \"percent_change_1h\": -0.199228523423042,\n",
      "          \"percent_change_24h\": 0.207014114934564,\n",
      "          \"percent_change_7d\": -6.59820041893462,\n",
      "          \"percentage_change_1h\": -0.199228523423042,\n",
      "          \"percentage_change_24h\": 0.207014114934564,\n",
      "          \"percentage_change_7d\": -6.59820041893462,\n",
      "          \"price\": 1208.54,\n",
      "          \"volume_24h\": 3542762982\n",
      "        }\n",
      "      },\n",
      "      \"rank\": 2,\n",
      "      \"symbol\": \"ETH\",\n",
      "      \"total_supply\": 120514870,\n",
      "      \"website_slug\": \"ethereum\"\n",
      "    }\n",
      "  },\n",
      "  \"metadata\": {\n",
      "    \"error\": null,\n",
      "    \"num_cryptocurrencies\": 3119,\n",
      "    \"timestamp\": 1668880190\n",
      "  }\n",
      "}\n"
     ]
    }
   ],
   "source": [
    "# Using the Python requests library, make an API call to access the current price ETH\n",
    "eth_response = requests.get(eth_url).json()\n",
    "\n",
    "# Use the json.dumps function to review the response data from the API call\n",
    "# Use the indent and sort_keys parameters to make the response object readable\n",
    "print(json.dumps(eth_response, indent=2, sort_keys=True))"
   ]
  },
  {
   "cell_type": "markdown",
   "metadata": {},
   "source": [
    "#### Step 3: Navigate the JSON response object to access the current price of each coin, and store each in a variable."
   ]
  },
  {
   "cell_type": "code",
   "execution_count": 61,
   "metadata": {},
   "outputs": [
    {
     "name": "stdout",
     "output_type": "stream",
     "text": [
      "16615.06\n"
     ]
    }
   ],
   "source": [
    "# Navigate the BTC response object to access the current price of BTC\n",
    "btc_price = btc_response[\"data\"][\"1\"][\"quotes\"][\"USD\"][\"price\"]\n",
    "\n",
    "\n",
    "# Print the current price of BTC\n",
    "print(btc_price)\n"
   ]
  },
  {
   "cell_type": "code",
   "execution_count": 62,
   "metadata": {},
   "outputs": [
    {
     "data": {
      "text/plain": [
       "1208.54"
      ]
     },
     "execution_count": 62,
     "metadata": {},
     "output_type": "execute_result"
    }
   ],
   "source": [
    "# Navigate the BTC response object to access the current price of ETH\n",
    "eth_price = eth_response[\"data\"][\"1027\"][\"quotes\"][\"USD\"][\"price\"]\n",
    "\n",
    "# Print the current price of ETH\n",
    "eth_price"
   ]
  },
  {
   "cell_type": "markdown",
   "metadata": {},
   "source": [
    "### Step 4: Calculate the value, in US dollars, of the current amount of each cryptocurrency and of the entire cryptocurrency wallet."
   ]
  },
  {
   "cell_type": "code",
   "execution_count": 63,
   "metadata": {},
   "outputs": [
    {
     "name": "stdout",
     "output_type": "stream",
     "text": [
      "The current value of the bitcoin holding is $19938.07\n"
     ]
    }
   ],
   "source": [
    "# Compute the current value of the BTC holding \n",
    "btc_value = btc_price * btc_coins\n",
    "\n",
    "# Print current value of your holding in BTC\n",
    "print(f\"The current value of the bitcoin holding is ${btc_value:.2f}\")"
   ]
  },
  {
   "cell_type": "code",
   "execution_count": 64,
   "metadata": {},
   "outputs": [
    {
     "name": "stdout",
     "output_type": "stream",
     "text": [
      "The current value of the ethereum holding is $6405.26\n"
     ]
    }
   ],
   "source": [
    "# Compute the current value of the ETH holding \n",
    "eth_value = eth_price * eth_coins\n",
    "\n",
    "# Print current value of your holding in ETH\n",
    "print(f\"The current value of the ethereum holding is ${eth_value:.2f}\")"
   ]
  },
  {
   "cell_type": "code",
   "execution_count": 65,
   "metadata": {},
   "outputs": [
    {
     "name": "stdout",
     "output_type": "stream",
     "text": [
      "In total, the crypto wallet is worth $26343.33\n"
     ]
    }
   ],
   "source": [
    "# Compute the total value of the cryptocurrency wallet\n",
    "# Add the value of the BTC holding to the value of the ETH holding\n",
    "total_crypto_wallet = btc_value + eth_value\n",
    "\n",
    "# Print current cryptocurrency wallet balance\n",
    "print(f\"In total, the crypto wallet is worth ${total_crypto_wallet:.2f}\")\n"
   ]
  },
  {
   "cell_type": "markdown",
   "metadata": {},
   "source": [
    "### Evaluate the Stock and Bond Holdings by Using the Alpaca SDK\n",
    "\n",
    "In this section, you’ll determine the current value of a member’s stock and bond holdings. You’ll make an API call to Alpaca via the Alpaca SDK to get the current closing prices of the SPDR S&P 500 ETF Trust (ticker: SPY) and of the iShares Core US Aggregate Bond ETF (ticker: AGG). For the prototype, assume that the member holds 110 shares of SPY, which represents the stock portion of their portfolio, and 200 shares of AGG, which represents the bond portion. To do all this, complete the following steps:\n",
    "\n",
    "1. In the `Starter_Code` folder, create an environment file (`.env`) to store the values of your Alpaca API key and Alpaca secret key.\n",
    "\n",
    "2. Set the variables for the Alpaca API and secret keys. Using the Alpaca SDK, create the Alpaca `tradeapi.REST` object. In this object, include the parameters for the Alpaca API key, the secret key, and the version number.\n",
    "\n",
    "3. Set the following parameters for the Alpaca API call:\n",
    "\n",
    "    - `tickers`: Use the tickers for the member’s stock and bond holdings.\n",
    "\n",
    "    - `timeframe`: Use a time frame of one day.\n",
    "\n",
    "    - `start_date` and `end_date`: Use the same date for these parameters, and format them with the date of the previous weekday (or `2020-08-07`). This is because you want the one closing price for the most-recent trading day.\n",
    "\n",
    "4. Get the current closing prices for `SPY` and `AGG` by using the Alpaca `get_bars` function. Format the response as a Pandas DataFrame by including the `df` property at the end of the `get_bars` function.\n",
    "\n",
    "5. Navigating the Alpaca response DataFrame, select the `SPY` and `AGG` closing prices, and store them as variables.\n",
    "\n",
    "6. Calculate the value, in US dollars, of the current amount of shares in each of the stock and bond portions of the portfolio, and print the results.\n"
   ]
  },
  {
   "cell_type": "markdown",
   "metadata": {},
   "source": [
    "#### Review the total number of shares held in both (SPY) and (AGG)."
   ]
  },
  {
   "cell_type": "code",
   "execution_count": 66,
   "metadata": {},
   "outputs": [],
   "source": [
    "# Current amount of shares held in both the stock (SPY) and bond (AGG) portion of the portfolio.\n",
    "spy_shares = 110\n",
    "agg_shares = 200\n"
   ]
  },
  {
   "cell_type": "markdown",
   "metadata": {},
   "source": [
    "#### Step 1: In the `Starter_Code` folder, create an environment file (`.env`) to store the values of your Alpaca API key and Alpaca secret key."
   ]
  },
  {
   "cell_type": "markdown",
   "metadata": {},
   "source": [
    "#### Step 2: Set the variables for the Alpaca API and secret keys. Using the Alpaca SDK, create the Alpaca `tradeapi.REST` object. In this object, include the parameters for the Alpaca API key, the secret key, and the version number."
   ]
  },
  {
   "cell_type": "code",
   "execution_count": 67,
   "metadata": {},
   "outputs": [
    {
     "data": {
      "text/plain": [
       "str"
      ]
     },
     "metadata": {},
     "output_type": "display_data"
    },
    {
     "data": {
      "text/plain": [
       "str"
      ]
     },
     "metadata": {},
     "output_type": "display_data"
    }
   ],
   "source": [
    "# Set the variables for the Alpaca API and secret keys\n",
    "alpaca_api_key = os.getenv(\"ALPACA_API_KEY\")\n",
    "alpaca_secret_key = os.getenv(\"ALPACA_SECRET_KEY\")\n",
    "\n",
    "display(type(alpaca_api_key))\n",
    "display(type(alpaca_secret_key))\n",
    "\n",
    "# Create the Alpaca tradeapi.REST object\n",
    "alpaca = tradeapi.REST(\n",
    "    alpaca_api_key,\n",
    "    alpaca_secret_key,\n",
    "    api_version=\"v2\"\n",
    ")\n"
   ]
  },
  {
   "cell_type": "markdown",
   "metadata": {},
   "source": [
    "#### Step 3: Set the following parameters for the Alpaca API call:\n",
    "\n",
    "- `tickers`: Use the tickers for the member’s stock and bond holdings.\n",
    "\n",
    "- `timeframe`: Use a time frame of one day.\n",
    "\n",
    "- `start_date` and `end_date`: Use the same date for these parameters, and format them with the date of the previous weekday (or `2020-08-07`). This is because you want the one closing price for the most-recent trading day.\n"
   ]
  },
  {
   "cell_type": "code",
   "execution_count": 68,
   "metadata": {},
   "outputs": [],
   "source": [
    "# Set the tickers for both the bond and stock portion of the portfolio\n",
    "tickers = [\"SPY\", \"AGG\"]\n",
    "# Set timeframe to 1Day\n",
    "timeframe = \"1Day\"\n",
    "\n",
    "\n",
    "# Format current date as ISO format\n",
    "# Set both the start and end date at the date of your prior weekday \n",
    "# This will give you the closing price of the previous trading day\n",
    "# Alternatively you can use a start and end date of 2020-08-07\n",
    "start_date = pd.Timestamp(\"2022-11-18\", tz=\"America/New_York\").isoformat()\n",
    "end_date = pd.Timestamp(\"2022-11-18\", tz=\"America/New_York\").isoformat()\n"
   ]
  },
  {
   "cell_type": "markdown",
   "metadata": {},
   "source": [
    "#### Step 4: Get the current closing prices for `SPY` and `AGG` by using the Alpaca `get_bars` function. Format the response as a Pandas DataFrame by including the `df` property at the end of the `get_bars` function."
   ]
  },
  {
   "cell_type": "code",
   "execution_count": 69,
   "metadata": {},
   "outputs": [
    {
     "data": {
      "text/html": [
       "<div>\n",
       "<style scoped>\n",
       "    .dataframe tbody tr th:only-of-type {\n",
       "        vertical-align: middle;\n",
       "    }\n",
       "\n",
       "    .dataframe tbody tr th {\n",
       "        vertical-align: top;\n",
       "    }\n",
       "\n",
       "    .dataframe thead tr th {\n",
       "        text-align: left;\n",
       "    }\n",
       "\n",
       "    .dataframe thead tr:last-of-type th {\n",
       "        text-align: right;\n",
       "    }\n",
       "</style>\n",
       "<table border=\"1\" class=\"dataframe\">\n",
       "  <thead>\n",
       "    <tr>\n",
       "      <th></th>\n",
       "      <th colspan=\"7\" halign=\"left\">SPY</th>\n",
       "      <th colspan=\"7\" halign=\"left\">AGG</th>\n",
       "    </tr>\n",
       "    <tr>\n",
       "      <th></th>\n",
       "      <th>open</th>\n",
       "      <th>high</th>\n",
       "      <th>low</th>\n",
       "      <th>close</th>\n",
       "      <th>volume</th>\n",
       "      <th>trade_count</th>\n",
       "      <th>vwap</th>\n",
       "      <th>open</th>\n",
       "      <th>high</th>\n",
       "      <th>low</th>\n",
       "      <th>close</th>\n",
       "      <th>volume</th>\n",
       "      <th>trade_count</th>\n",
       "      <th>vwap</th>\n",
       "    </tr>\n",
       "    <tr>\n",
       "      <th>timestamp</th>\n",
       "      <th></th>\n",
       "      <th></th>\n",
       "      <th></th>\n",
       "      <th></th>\n",
       "      <th></th>\n",
       "      <th></th>\n",
       "      <th></th>\n",
       "      <th></th>\n",
       "      <th></th>\n",
       "      <th></th>\n",
       "      <th></th>\n",
       "      <th></th>\n",
       "      <th></th>\n",
       "      <th></th>\n",
       "    </tr>\n",
       "  </thead>\n",
       "  <tbody>\n",
       "    <tr>\n",
       "      <th>2022-11-18 05:00:00+00:00</th>\n",
       "      <td>397.74</td>\n",
       "      <td>397.81</td>\n",
       "      <td>393.04</td>\n",
       "      <td>396.03</td>\n",
       "      <td>92449201</td>\n",
       "      <td>522023</td>\n",
       "      <td>395.406321</td>\n",
       "      <td>97.22</td>\n",
       "      <td>97.325</td>\n",
       "      <td>96.91</td>\n",
       "      <td>97.0</td>\n",
       "      <td>4710384</td>\n",
       "      <td>17080</td>\n",
       "      <td>97.045155</td>\n",
       "    </tr>\n",
       "  </tbody>\n",
       "</table>\n",
       "</div>"
      ],
      "text/plain": [
       "                              SPY                                    \\\n",
       "                             open    high     low   close    volume   \n",
       "timestamp                                                             \n",
       "2022-11-18 05:00:00+00:00  397.74  397.81  393.04  396.03  92449201   \n",
       "\n",
       "                                                     AGG                       \\\n",
       "                          trade_count        vwap   open    high    low close   \n",
       "timestamp                                                                       \n",
       "2022-11-18 05:00:00+00:00      522023  395.406321  97.22  97.325  96.91  97.0   \n",
       "\n",
       "                                                           \n",
       "                            volume trade_count       vwap  \n",
       "timestamp                                                  \n",
       "2022-11-18 05:00:00+00:00  4710384       17080  97.045155  "
      ]
     },
     "execution_count": 69,
     "metadata": {},
     "output_type": "execute_result"
    }
   ],
   "source": [
    "# Use the Alpaca get_bars function to get current closing prices the portfolio\n",
    "# Be sure to set the `df` property after the function to format the response object as a DataFrame\n",
    "portfolio_prices_df = alpaca.get_bars(\n",
    "    tickers,\n",
    "    timeframe,\n",
    "    start = start_date,\n",
    "    end = end_date\n",
    ").df\n",
    "\n",
    "\n",
    "# Reorganize the DataFrame\n",
    "# Separate ticker data\n",
    "SPY = portfolio_prices_df[portfolio_prices_df['symbol']=='SPY'].drop('symbol', axis=1)\n",
    "AGG = portfolio_prices_df[portfolio_prices_df['symbol']=='AGG'].drop('symbol', axis=1)\n",
    "\n",
    "# Concatenate the ticker DataFrames\n",
    "portfolio_prices_df = pd.concat([SPY, AGG],axis=1, keys=['SPY','AGG'])\n",
    "\n",
    "# Review the first 5 rows of the Alpaca DataFrame\n",
    "portfolio_prices_df.head()\n"
   ]
  },
  {
   "cell_type": "markdown",
   "metadata": {},
   "source": [
    "#### Step 5: Navigating the Alpaca response DataFrame, select the `SPY` and `AGG` closing prices, and store them as variables."
   ]
  },
  {
   "cell_type": "code",
   "execution_count": 71,
   "metadata": {},
   "outputs": [
    {
     "name": "stdout",
     "output_type": "stream",
     "text": [
      "97.0\n"
     ]
    }
   ],
   "source": [
    "# Access the closing price for AGG from the Alpaca DataFrame\n",
    "# Converting the value to a floating point number\n",
    "agg_close_price = float(portfolio_prices_df[\"AGG\"][\"close\"])\n",
    "\n",
    "# Print the AGG closing price\n",
    "print(agg_close_price)\n"
   ]
  },
  {
   "cell_type": "code",
   "execution_count": 72,
   "metadata": {},
   "outputs": [
    {
     "name": "stdout",
     "output_type": "stream",
     "text": [
      "396.03\n"
     ]
    }
   ],
   "source": [
    "# Access the closing price for SPY from the Alpaca DataFrame\n",
    "# Converting the value to a floating point number\n",
    "spy_close_price = float(portfolio_prices_df[\"SPY\"][\"close\"])\n",
    "# Print the SPY closing price\n",
    "print(spy_close_price)\n"
   ]
  },
  {
   "cell_type": "markdown",
   "metadata": {},
   "source": [
    "#### Step 6: Calculate the value, in US dollars, of the current amount of shares in each of the stock and bond portions of the portfolio, and print the results."
   ]
  },
  {
   "cell_type": "code",
   "execution_count": 73,
   "metadata": {},
   "outputs": [
    {
     "name": "stdout",
     "output_type": "stream",
     "text": [
      " The current value of the AGG shares is $19400.00\n"
     ]
    }
   ],
   "source": [
    "# Calculate the current value of the bond portion of the portfolio\n",
    "agg_value = agg_close_price * agg_shares\n",
    "\n",
    "# Print the current value of the bond portfolio\n",
    "print(f\" The current value of the AGG shares is ${agg_value:.2f}\")\n"
   ]
  },
  {
   "cell_type": "code",
   "execution_count": 74,
   "metadata": {},
   "outputs": [
    {
     "name": "stdout",
     "output_type": "stream",
     "text": [
      " The current value of the SPY shares is $43563.30\n"
     ]
    }
   ],
   "source": [
    "# Calculate the current value of the stock portion of the portfolio\n",
    "spy_value = spy_close_price * spy_shares\n",
    "# Print the current value of the stock portfolio\n",
    "print(f\" The current value of the SPY shares is ${spy_value:.2f}\")"
   ]
  },
  {
   "cell_type": "code",
   "execution_count": 75,
   "metadata": {},
   "outputs": [
    {
     "name": "stdout",
     "output_type": "stream",
     "text": [
      "The total value of the stocks and bonds in the portfolio is $62963.30\n"
     ]
    }
   ],
   "source": [
    "# Calculate the total value of the stock and bond portion of the portfolio\n",
    "total_stocks_bonds = spy_value + agg_value\n",
    "\n",
    "# Print the current balance of the stock and bond portion of the portfolio\n",
    "print(f\"The total value of the stocks and bonds in the portfolio is ${total_stocks_bonds:.2f}\")\n"
   ]
  },
  {
   "cell_type": "code",
   "execution_count": 76,
   "metadata": {},
   "outputs": [
    {
     "name": "stdout",
     "output_type": "stream",
     "text": [
      "The total portfolio is worth $89306.63\n"
     ]
    }
   ],
   "source": [
    "# Calculate the total value of the member's entire savings portfolio\n",
    "# Add the value of the cryptocurrency walled to the value of the total stocks and bonds\n",
    "total_portfolio = total_stocks_bonds + total_crypto_wallet\n",
    "\n",
    "# Print current cryptocurrency wallet balance\n",
    "print(f\"The total portfolio is worth ${total_portfolio:.2f}\")"
   ]
  },
  {
   "cell_type": "markdown",
   "metadata": {},
   "source": [
    "### Evaluate the Emergency Fund\n",
    "\n",
    "In this section, you’ll use the valuations for the cryptocurrency wallet and for the stock and bond portions of the portfolio to determine if the credit union member has enough savings to build an emergency fund into their financial plan. To do this, complete the following steps:\n",
    "\n",
    "1. Create a Python list named `savings_data` that has two elements. The first element contains the total value of the cryptocurrency wallet. The second element contains the total value of the stock and bond portions of the portfolio.\n",
    "\n",
    "2. Use the `savings_data` list to create a Pandas DataFrame named `savings_df`, and then display this DataFrame. The function to create the DataFrame should take the following three parameters:\n",
    "\n",
    "    - `savings_data`: Use the list that you just created.\n",
    "\n",
    "    - `columns`: Set this parameter equal to a Python list with a single value called `amount`.\n",
    "\n",
    "    - `index`: Set this parameter equal to a Python list with the values of `crypto` and `stock/bond`.\n",
    "\n",
    "3. Use the `savings_df` DataFrame to plot a pie chart that visualizes the composition of the member’s portfolio. The y-axis of the pie chart uses `amount`. Be sure to add a title.\n",
    "\n",
    "4. Using Python, determine if the current portfolio has enough to create an emergency fund as part of the member’s financial plan. Ideally, an emergency fund should equal to three times the member’s monthly income. To do this, implement the following steps:\n",
    "\n",
    "    1. Create a variable named `emergency_fund_value`, and set it equal to three times the value of the member’s `monthly_income` of $12000. (You set this earlier in Part 1).\n",
    "\n",
    "    2. Create a series of three if statements to determine if the member’s total portfolio is large enough to fund the emergency portfolio:\n",
    "\n",
    "        1. If the total portfolio value is greater than the emergency fund value, display a message congratulating the member for having enough money in this fund.\n",
    "\n",
    "        2. Else if the total portfolio value is equal to the emergency fund value, display a message congratulating the member on reaching this important financial goal.\n",
    "\n",
    "        3. Else the total portfolio is less than the emergency fund value, so display a message showing how many dollars away the member is from reaching the goal. (Subtract the total portfolio value from the emergency fund value.)\n"
   ]
  },
  {
   "cell_type": "markdown",
   "metadata": {},
   "source": [
    "#### Step 1: Create a Python list named `savings_data` that has two elements. The first element contains the total value of the cryptocurrency wallet. The second element contains the total value of the stock and bond portions of the portfolio."
   ]
  },
  {
   "cell_type": "code",
   "execution_count": 77,
   "metadata": {},
   "outputs": [
    {
     "name": "stdout",
     "output_type": "stream",
     "text": [
      "{62963.299999999996, 26343.334}\n"
     ]
    }
   ],
   "source": [
    "# Consolidate financial assets data into a Python list\n",
    "savings_data = {\n",
    "    total_crypto_wallet,\n",
    "    total_stocks_bonds,\n",
    "}\n",
    "# Review the Python list savings_data\n",
    "print(savings_data)\n",
    "    "
   ]
  },
  {
   "cell_type": "markdown",
   "metadata": {},
   "source": [
    "#### Step 2: Use the `savings_data` list to create a Pandas DataFrame named `savings_df`, and then display this DataFrame. The function to create the DataFrame should take the following three parameters:\n",
    "\n",
    "- `savings_data`: Use the list that you just created.\n",
    "\n",
    "- `columns`: Set this parameter equal to a Python list with a single value called `amount`.\n",
    "\n",
    "- `index`: Set this parameter equal to a Python list with the values of `crypto` and `stock/bond`.\n"
   ]
  },
  {
   "cell_type": "code",
   "execution_count": 78,
   "metadata": {},
   "outputs": [
    {
     "data": {
      "text/html": [
       "<div>\n",
       "<style scoped>\n",
       "    .dataframe tbody tr th:only-of-type {\n",
       "        vertical-align: middle;\n",
       "    }\n",
       "\n",
       "    .dataframe tbody tr th {\n",
       "        vertical-align: top;\n",
       "    }\n",
       "\n",
       "    .dataframe thead th {\n",
       "        text-align: right;\n",
       "    }\n",
       "</style>\n",
       "<table border=\"1\" class=\"dataframe\">\n",
       "  <thead>\n",
       "    <tr style=\"text-align: right;\">\n",
       "      <th></th>\n",
       "      <th>amount</th>\n",
       "    </tr>\n",
       "  </thead>\n",
       "  <tbody>\n",
       "    <tr>\n",
       "      <th>cypto</th>\n",
       "      <td>62963.300</td>\n",
       "    </tr>\n",
       "    <tr>\n",
       "      <th>stocks and bonds</th>\n",
       "      <td>26343.334</td>\n",
       "    </tr>\n",
       "  </tbody>\n",
       "</table>\n",
       "</div>"
      ],
      "text/plain": [
       "                     amount\n",
       "cypto             62963.300\n",
       "stocks and bonds  26343.334"
      ]
     },
     "execution_count": 78,
     "metadata": {},
     "output_type": "execute_result"
    }
   ],
   "source": [
    "# Create a Pandas DataFrame called savings_df \n",
    "df_savings_data = pd.DataFrame(savings_data, index=[\"cypto\", \"stocks and bonds\"], columns=[\"amount\"])\n",
    "\n",
    "# Display the savings_df DataFrame\n",
    "df_savings_data\n"
   ]
  },
  {
   "cell_type": "markdown",
   "metadata": {},
   "source": [
    "#### Step 3: Use the `savings_df` DataFrame to plot a pie chart that visualizes the composition of the member’s portfolio. The y-axis of the pie chart uses `amount`. Be sure to add a title."
   ]
  },
  {
   "cell_type": "code",
   "execution_count": 80,
   "metadata": {},
   "outputs": [
    {
     "data": {
      "text/plain": [
       "<AxesSubplot:title={'center':'Total Savings 2022-11-18'}, ylabel='amount'>"
      ]
     },
     "execution_count": 80,
     "metadata": {},
     "output_type": "execute_result"
    },
    {
     "data": {
      "image/png": "[encoded data removed]",
      "text/plain": [
       "<Figure size 640x480 with 1 Axes>"
      ]
     },
     "metadata": {},
     "output_type": "display_data"
    }
   ],
   "source": [
    "# Plot the total value of the member's portfolio (crypto and stock/bond) in a pie chart\n",
    "df_savings_data.plot.pie(y=\"amount\", title=\"Total Savings 2022-11-18\")\n"
   ]
  },
  {
   "cell_type": "markdown",
   "metadata": {},
   "source": [
    "#### Step 4: Using Python, determine if the current portfolio has enough to create an emergency fund as part of the member’s financial plan. Ideally, an emergency fund should equal to three times the member’s monthly income. To do this, implement the following steps:\n",
    "\n",
    "Step 1. Create a variable named `emergency_fund_value`, and set it equal to three times the value of the member’s `monthly_income` of 12000. (You set this earlier in Part 1).\n",
    "\n",
    "Step 2. Create a series of three if statements to determine if the member’s total portfolio is large enough to fund the emergency portfolio:\n",
    "\n",
    "* If the total portfolio value is greater than the emergency fund value, display a message congratulating the member for having enough money in this fund.\n",
    "\n",
    "* Else if the total portfolio value is equal to the emergency fund value, display a message congratulating the member on reaching this important financial goal.\n",
    "\n",
    "* Else the total portfolio is less than the emergency fund value, so display a message showing how many dollars away the member is from reaching the goal. (Subtract the total portfolio value from the emergency fund value.)\n"
   ]
  },
  {
   "cell_type": "markdown",
   "metadata": {},
   "source": [
    "##### Step 4-1: Create a variable named `emergency_fund_value`, and set it equal to three times the value of the member’s `monthly_income` of 12000. (You set this earlier in Part 1)."
   ]
  },
  {
   "cell_type": "code",
   "execution_count": 81,
   "metadata": {},
   "outputs": [],
   "source": [
    "# Create a variable named emergency_fund_value\n",
    "emergency_fund_value = monthly_income * 3\n"
   ]
  },
  {
   "cell_type": "markdown",
   "metadata": {},
   "source": [
    "##### Step 4-2: Create a series of three if statements to determine if the member’s total portfolio is large enough to fund the emergency portfolio:\n",
    "\n",
    "* If the total portfolio value is greater than the emergency fund value, display a message congratulating the member for having enough money in this fund.\n",
    "\n",
    "* Else if the total portfolio value is equal to the emergency fund value, display a message congratulating the member on reaching this important financial goal.\n",
    "\n",
    "* Else the total portfolio is less than the emergency fund value, so display a message showing how many dollars away the member is from reaching the goal. (Subtract the total portfolio value from the emergency fund value.)"
   ]
  },
  {
   "cell_type": "code",
   "execution_count": 82,
   "metadata": {},
   "outputs": [
    {
     "name": "stdout",
     "output_type": "stream",
     "text": [
      "Congratulations, you have enough money in this fund.\n"
     ]
    }
   ],
   "source": [
    "# Evaluate the possibility of creating an emergency fund with 3 conditions:\n",
    "if total_portfolio > emergency_fund_value:\n",
    "    print(\"Congratulations, you have enough money in this fund.\")\n",
    "elif total_portfolio == emergency_fund_value:\n",
    "    print(\"Congratulations on reaching your financial goals.\")\n",
    "else:\n",
    "    print(f\"Sorry, you are still ${emergency_fund_value - total_portfolio:.2f} away from reaching your goal\")\n",
    "\n"
   ]
  },
  {
   "cell_type": "markdown",
   "metadata": {},
   "source": [
    "## Part 2: Create a Financial Planner for Retirement"
   ]
  },
  {
   "cell_type": "markdown",
   "metadata": {},
   "source": [
    "### Create the Monte Carlo Simulation\n",
    "\n",
    "In this section, you’ll use the MCForecastTools library to create a Monte Carlo simulation for the member’s savings portfolio. To do this, complete the following steps:\n",
    "\n",
    "1. Make an API call via the Alpaca SDK to get 3 years of historical closing prices for a traditional 60/40 portfolio split: 60% stocks (SPY) and 40% bonds (AGG).\n",
    "\n",
    "2. Run a Monte Carlo simulation of 500 samples and 30 years for the 60/40 portfolio, and then plot the results.The following image shows the overlay line plot resulting from a simulation with these characteristics. However, because a random number generator is used to run each live Monte Carlo simulation, your image will differ slightly from this exact image:\n",
    "\n",
    "![A screenshot depicts the resulting plot.](Images/5-4-monte-carlo-line-plot.png)\n",
    "\n",
    "3. Plot the probability distribution of the Monte Carlo simulation. Plot the probability distribution of the Monte Carlo simulation. The following image shows the histogram plot resulting from a simulation with these characteristics. However, because a random number generator is used to run each live Monte Carlo simulation, your image will differ slightly from this exact image:\n",
    "\n",
    "![A screenshot depicts the histogram plot.](Images/5-4-monte-carlo-histogram.png)\n",
    "\n",
    "4. Generate the summary statistics for the Monte Carlo simulation.\n",
    "\n"
   ]
  },
  {
   "cell_type": "markdown",
   "metadata": {},
   "source": [
    "#### Step 1: Make an API call via the Alpaca SDK to get 3 years of historical closing prices for a traditional 60/40 portfolio split: 60% stocks (SPY) and 40% bonds (AGG)."
   ]
  },
  {
   "cell_type": "code",
   "execution_count": 91,
   "metadata": {},
   "outputs": [],
   "source": [
    "# Set start and end dates of 3 years back from your current date\n",
    "# Alternatively, you can use an end date of 2020-08-07 and work 3 years back from that date \n",
    "new_start_date = pd.Timestamp(\"2019-11-18\", tz=\"America/New_York\").isoformat()\n",
    "end_date = pd.Timestamp(\"2022-11-18\", tz=\"America/New_York\").isoformat()\n"
   ]
  },
  {
   "cell_type": "code",
   "execution_count": 93,
   "metadata": {},
   "outputs": [
    {
     "name": "stdout",
     "output_type": "stream",
     "text": [
      "                              SPY                                    \\\n",
      "                             open    high     low   close    volume   \n",
      "timestamp                                                             \n",
      "2019-11-18 05:00:00+00:00  311.53  312.28  311.03  311.98  50249492   \n",
      "2019-11-19 05:00:00+00:00  312.68  312.69  311.22  311.91  71272497   \n",
      "2019-11-20 05:00:00+00:00  311.28  311.85  309.06  310.81  79719841   \n",
      "2019-11-21 05:00:00+00:00  310.89  311.01  309.39  310.30  54689005   \n",
      "2019-11-22 05:00:00+00:00  311.09  311.24  309.85  311.02  44851102   \n",
      "\n",
      "                                                      AGG                      \\\n",
      "                          trade_count        vwap    open      high       low   \n",
      "timestamp                                                                       \n",
      "2019-11-18 05:00:00+00:00      203344  311.812773  112.56  112.6460  112.5200   \n",
      "2019-11-19 05:00:00+00:00      230880  312.009439  112.63  112.7600  112.6000   \n",
      "2019-11-20 05:00:00+00:00      381793  310.657500  112.83  112.9800  112.8050   \n",
      "2019-11-21 05:00:00+00:00      239122  310.314550  112.80  112.8859  112.7200   \n",
      "2019-11-22 05:00:00+00:00      184088  310.780328  112.89  112.9000  112.7605   \n",
      "\n",
      "                                                                    \n",
      "                            close   volume trade_count        vwap  \n",
      "timestamp                                                           \n",
      "2019-11-18 05:00:00+00:00  112.62  6044518       13537  112.604019  \n",
      "2019-11-19 05:00:00+00:00  112.70  2656090       10232  112.700069  \n",
      "2019-11-20 05:00:00+00:00  112.97  3474498       14795  112.903444  \n",
      "2019-11-21 05:00:00+00:00  112.81  6522830       14450  112.797968  \n",
      "2019-11-22 05:00:00+00:00  112.87  2509158        9837  112.853991  \n",
      "                              SPY                                      \\\n",
      "                             open      high     low   close    volume   \n",
      "timestamp                                                               \n",
      "2022-11-14 05:00:00+00:00  396.66  400.1799  394.83  395.12  71676295   \n",
      "2022-11-15 05:00:00+00:00  401.15  402.3100  394.49  398.49  92409003   \n",
      "2022-11-16 05:00:00+00:00  396.78  397.7800  394.79  395.45  67912256   \n",
      "2022-11-17 05:00:00+00:00  390.46  394.9500  390.14  394.24  74165955   \n",
      "2022-11-18 05:00:00+00:00  397.74  397.8100  393.04  396.03  92449201   \n",
      "\n",
      "                                                     AGG                  \\\n",
      "                          trade_count        vwap   open    high     low   \n",
      "timestamp                                                                  \n",
      "2022-11-14 05:00:00+00:00      526259  397.620023  96.43  96.450  96.175   \n",
      "2022-11-15 05:00:00+00:00      743707  398.793190  96.80  96.950  96.605   \n",
      "2022-11-16 05:00:00+00:00      480807  396.093557  97.25  97.630  97.135   \n",
      "2022-11-17 05:00:00+00:00      496852  392.809764  97.03  97.165  96.850   \n",
      "2022-11-18 05:00:00+00:00      522023  395.406321  97.22  97.325  96.910   \n",
      "\n",
      "                                                                   \n",
      "                           close    volume trade_count       vwap  \n",
      "timestamp                                                          \n",
      "2022-11-14 05:00:00+00:00  96.24   7456359       21388  96.289535  \n",
      "2022-11-15 05:00:00+00:00  96.95   7941868       24637  96.833059  \n",
      "2022-11-16 05:00:00+00:00  97.55  10979915       28659  97.397368  \n",
      "2022-11-17 05:00:00+00:00  97.14   6858308       21862  97.041575  \n",
      "2022-11-18 05:00:00+00:00  97.00   4710384       17080  97.045155  \n"
     ]
    }
   ],
   "source": [
    "# Use the Alpaca get_bars function to make the API call to get the 3 years worth of pricing data\n",
    "# The tickers and timeframe parameters should have been set in Part 1 of this activity \n",
    "# The start and end dates should be updated with the information set above\n",
    "# Remember to add the df property to the end of the call so the response is returned as a DataFrame\n",
    "weighted_stocks_df = alpaca.get_bars(\n",
    "    tickers,\n",
    "    timeframe,\n",
    "    start = new_start_date,\n",
    "    end = end_date\n",
    ").df\n",
    "\n",
    "# Reorganize the DataFrame\n",
    "# Separate ticker data\n",
    "SPY = weighted_stocks_df[weighted_stocks_df['symbol']=='SPY'].drop('symbol', axis=1)\n",
    "AGG = weighted_stocks_df[weighted_stocks_df['symbol']=='AGG'].drop('symbol', axis=1)\n",
    "\n",
    "# Concatenate the ticker DataFrames\n",
    "weighted_stocks_df = pd.concat([SPY, AGG],axis=1, keys=['SPY','AGG'])\n",
    "\n",
    "\n",
    "# Display both the first and last five rows of the DataFrame\n",
    "print(weighted_stocks_df.head())\n",
    "print(weighted_stocks_df.tail())\n"
   ]
  },
  {
   "cell_type": "markdown",
   "metadata": {},
   "source": [
    "#### Step 2: Run a Monte Carlo simulation of 500 samples and 30 years for the 60/40 portfolio, and then plot the results."
   ]
  },
  {
   "cell_type": "code",
   "execution_count": 97,
   "metadata": {},
   "outputs": [
    {
     "data": {
      "text/html": [
       "<div>\n",
       "<style scoped>\n",
       "    .dataframe tbody tr th:only-of-type {\n",
       "        vertical-align: middle;\n",
       "    }\n",
       "\n",
       "    .dataframe tbody tr th {\n",
       "        vertical-align: top;\n",
       "    }\n",
       "\n",
       "    .dataframe thead tr th {\n",
       "        text-align: left;\n",
       "    }\n",
       "\n",
       "    .dataframe thead tr:last-of-type th {\n",
       "        text-align: right;\n",
       "    }\n",
       "</style>\n",
       "<table border=\"1\" class=\"dataframe\">\n",
       "  <thead>\n",
       "    <tr>\n",
       "      <th></th>\n",
       "      <th colspan=\"8\" halign=\"left\">SPY</th>\n",
       "      <th colspan=\"8\" halign=\"left\">AGG</th>\n",
       "    </tr>\n",
       "    <tr>\n",
       "      <th></th>\n",
       "      <th>open</th>\n",
       "      <th>high</th>\n",
       "      <th>low</th>\n",
       "      <th>close</th>\n",
       "      <th>volume</th>\n",
       "      <th>trade_count</th>\n",
       "      <th>vwap</th>\n",
       "      <th>daily_return</th>\n",
       "      <th>open</th>\n",
       "      <th>high</th>\n",
       "      <th>low</th>\n",
       "      <th>close</th>\n",
       "      <th>volume</th>\n",
       "      <th>trade_count</th>\n",
       "      <th>vwap</th>\n",
       "      <th>daily_return</th>\n",
       "    </tr>\n",
       "    <tr>\n",
       "      <th>timestamp</th>\n",
       "      <th></th>\n",
       "      <th></th>\n",
       "      <th></th>\n",
       "      <th></th>\n",
       "      <th></th>\n",
       "      <th></th>\n",
       "      <th></th>\n",
       "      <th></th>\n",
       "      <th></th>\n",
       "      <th></th>\n",
       "      <th></th>\n",
       "      <th></th>\n",
       "      <th></th>\n",
       "      <th></th>\n",
       "      <th></th>\n",
       "      <th></th>\n",
       "    </tr>\n",
       "  </thead>\n",
       "  <tbody>\n",
       "    <tr>\n",
       "      <th>2019-11-18 05:00:00+00:00</th>\n",
       "      <td>311.53</td>\n",
       "      <td>312.28</td>\n",
       "      <td>311.03</td>\n",
       "      <td>311.98</td>\n",
       "      <td>50249492</td>\n",
       "      <td>203344</td>\n",
       "      <td>311.812773</td>\n",
       "      <td>NaN</td>\n",
       "      <td>112.56</td>\n",
       "      <td>112.6460</td>\n",
       "      <td>112.5200</td>\n",
       "      <td>112.62</td>\n",
       "      <td>6044518</td>\n",
       "      <td>13537</td>\n",
       "      <td>112.604019</td>\n",
       "      <td>NaN</td>\n",
       "    </tr>\n",
       "    <tr>\n",
       "      <th>2019-11-19 05:00:00+00:00</th>\n",
       "      <td>312.68</td>\n",
       "      <td>312.69</td>\n",
       "      <td>311.22</td>\n",
       "      <td>311.91</td>\n",
       "      <td>71272497</td>\n",
       "      <td>230880</td>\n",
       "      <td>312.009439</td>\n",
       "      <td>-0.000224</td>\n",
       "      <td>112.63</td>\n",
       "      <td>112.7600</td>\n",
       "      <td>112.6000</td>\n",
       "      <td>112.70</td>\n",
       "      <td>2656090</td>\n",
       "      <td>10232</td>\n",
       "      <td>112.700069</td>\n",
       "      <td>0.000710</td>\n",
       "    </tr>\n",
       "    <tr>\n",
       "      <th>2019-11-20 05:00:00+00:00</th>\n",
       "      <td>311.28</td>\n",
       "      <td>311.85</td>\n",
       "      <td>309.06</td>\n",
       "      <td>310.81</td>\n",
       "      <td>79719841</td>\n",
       "      <td>381793</td>\n",
       "      <td>310.657500</td>\n",
       "      <td>-0.003527</td>\n",
       "      <td>112.83</td>\n",
       "      <td>112.9800</td>\n",
       "      <td>112.8050</td>\n",
       "      <td>112.97</td>\n",
       "      <td>3474498</td>\n",
       "      <td>14795</td>\n",
       "      <td>112.903444</td>\n",
       "      <td>0.002396</td>\n",
       "    </tr>\n",
       "    <tr>\n",
       "      <th>2019-11-21 05:00:00+00:00</th>\n",
       "      <td>310.89</td>\n",
       "      <td>311.01</td>\n",
       "      <td>309.39</td>\n",
       "      <td>310.30</td>\n",
       "      <td>54689005</td>\n",
       "      <td>239122</td>\n",
       "      <td>310.314550</td>\n",
       "      <td>-0.001641</td>\n",
       "      <td>112.80</td>\n",
       "      <td>112.8859</td>\n",
       "      <td>112.7200</td>\n",
       "      <td>112.81</td>\n",
       "      <td>6522830</td>\n",
       "      <td>14450</td>\n",
       "      <td>112.797968</td>\n",
       "      <td>-0.001416</td>\n",
       "    </tr>\n",
       "    <tr>\n",
       "      <th>2019-11-22 05:00:00+00:00</th>\n",
       "      <td>311.09</td>\n",
       "      <td>311.24</td>\n",
       "      <td>309.85</td>\n",
       "      <td>311.02</td>\n",
       "      <td>44851102</td>\n",
       "      <td>184088</td>\n",
       "      <td>310.780328</td>\n",
       "      <td>0.002320</td>\n",
       "      <td>112.89</td>\n",
       "      <td>112.9000</td>\n",
       "      <td>112.7605</td>\n",
       "      <td>112.87</td>\n",
       "      <td>2509158</td>\n",
       "      <td>9837</td>\n",
       "      <td>112.853991</td>\n",
       "      <td>0.000532</td>\n",
       "    </tr>\n",
       "  </tbody>\n",
       "</table>\n",
       "</div>"
      ],
      "text/plain": [
       "                              SPY                                    \\\n",
       "                             open    high     low   close    volume   \n",
       "timestamp                                                             \n",
       "2019-11-18 05:00:00+00:00  311.53  312.28  311.03  311.98  50249492   \n",
       "2019-11-19 05:00:00+00:00  312.68  312.69  311.22  311.91  71272497   \n",
       "2019-11-20 05:00:00+00:00  311.28  311.85  309.06  310.81  79719841   \n",
       "2019-11-21 05:00:00+00:00  310.89  311.01  309.39  310.30  54689005   \n",
       "2019-11-22 05:00:00+00:00  311.09  311.24  309.85  311.02  44851102   \n",
       "\n",
       "                                                                   AGG  \\\n",
       "                          trade_count        vwap daily_return    open   \n",
       "timestamp                                                                \n",
       "2019-11-18 05:00:00+00:00      203344  311.812773          NaN  112.56   \n",
       "2019-11-19 05:00:00+00:00      230880  312.009439    -0.000224  112.63   \n",
       "2019-11-20 05:00:00+00:00      381793  310.657500    -0.003527  112.83   \n",
       "2019-11-21 05:00:00+00:00      239122  310.314550    -0.001641  112.80   \n",
       "2019-11-22 05:00:00+00:00      184088  310.780328     0.002320  112.89   \n",
       "\n",
       "                                                                            \\\n",
       "                               high       low   close   volume trade_count   \n",
       "timestamp                                                                    \n",
       "2019-11-18 05:00:00+00:00  112.6460  112.5200  112.62  6044518       13537   \n",
       "2019-11-19 05:00:00+00:00  112.7600  112.6000  112.70  2656090       10232   \n",
       "2019-11-20 05:00:00+00:00  112.9800  112.8050  112.97  3474498       14795   \n",
       "2019-11-21 05:00:00+00:00  112.8859  112.7200  112.81  6522830       14450   \n",
       "2019-11-22 05:00:00+00:00  112.9000  112.7605  112.87  2509158        9837   \n",
       "\n",
       "                                                    \n",
       "                                 vwap daily_return  \n",
       "timestamp                                           \n",
       "2019-11-18 05:00:00+00:00  112.604019          NaN  \n",
       "2019-11-19 05:00:00+00:00  112.700069     0.000710  \n",
       "2019-11-20 05:00:00+00:00  112.903444     0.002396  \n",
       "2019-11-21 05:00:00+00:00  112.797968    -0.001416  \n",
       "2019-11-22 05:00:00+00:00  112.853991     0.000532  "
      ]
     },
     "execution_count": 97,
     "metadata": {},
     "output_type": "execute_result"
    }
   ],
   "source": [
    "# Configure the Monte Carlo simulation to forecast 30 years cumulative returns\n",
    "# The weights should be split 40% to AGG and 60% to SPY.\n",
    "# Run 500 samples.\n",
    "MC_stock_weight = MCSimulation(\n",
    "    portfolio_data = weighted_stocks_df,\n",
    "    weights =[.6, .4],\n",
    "    num_simulation = 500,\n",
    "    num_trading_days = 252*30\n",
    ")\n",
    "\n",
    "# Review the simulation input data\n",
    "MC_stock_weight.portfolio_data.head()\n"
   ]
  },
  {
   "cell_type": "code",
   "execution_count": 98,
   "metadata": {},
   "outputs": [
    {
     "name": "stdout",
     "output_type": "stream",
     "text": [
      "Running Monte Carlo simulation number 0.\n",
      "Running Monte Carlo simulation number 10.\n",
      "Running Monte Carlo simulation number 20.\n",
      "Running Monte Carlo simulation number 30.\n",
      "Running Monte Carlo simulation number 40.\n",
      "Running Monte Carlo simulation number 50.\n",
      "Running Monte Carlo simulation number 60.\n",
      "Running Monte Carlo simulation number 70.\n",
      "Running Monte Carlo simulation number 80.\n",
      "Running Monte Carlo simulation number 90.\n",
      "Running Monte Carlo simulation number 100.\n",
      "Running Monte Carlo simulation number 110.\n",
      "Running Monte Carlo simulation number 120.\n",
      "Running Monte Carlo simulation number 130.\n",
      "Running Monte Carlo simulation number 140.\n",
      "Running Monte Carlo simulation number 150.\n",
      "Running Monte Carlo simulation number 160.\n",
      "Running Monte Carlo simulation number 170.\n",
      "Running Monte Carlo simulation number 180.\n",
      "Running Monte Carlo simulation number 190.\n",
      "Running Monte Carlo simulation number 200.\n",
      "Running Monte Carlo simulation number 210.\n",
      "Running Monte Carlo simulation number 220.\n",
      "Running Monte Carlo simulation number 230.\n",
      "Running Monte Carlo simulation number 240.\n",
      "Running Monte Carlo simulation number 250.\n",
      "Running Monte Carlo simulation number 260.\n",
      "Running Monte Carlo simulation number 270.\n",
      "Running Monte Carlo simulation number 280.\n",
      "Running Monte Carlo simulation number 290.\n",
      "Running Monte Carlo simulation number 300.\n",
      "Running Monte Carlo simulation number 310.\n",
      "Running Monte Carlo simulation number 320.\n",
      "Running Monte Carlo simulation number 330.\n",
      "Running Monte Carlo simulation number 340.\n",
      "Running Monte Carlo simulation number 350.\n",
      "Running Monte Carlo simulation number 360.\n",
      "Running Monte Carlo simulation number 370.\n",
      "Running Monte Carlo simulation number 380.\n",
      "Running Monte Carlo simulation number 390.\n",
      "Running Monte Carlo simulation number 400.\n",
      "Running Monte Carlo simulation number 410.\n",
      "Running Monte Carlo simulation number 420.\n",
      "Running Monte Carlo simulation number 430.\n",
      "Running Monte Carlo simulation number 440.\n",
      "Running Monte Carlo simulation number 450.\n",
      "Running Monte Carlo simulation number 460.\n",
      "Running Monte Carlo simulation number 470.\n",
      "Running Monte Carlo simulation number 480.\n",
      "Running Monte Carlo simulation number 490.\n"
     ]
    },
    {
     "data": {
      "text/html": [
       "<div>\n",
       "<style scoped>\n",
       "    .dataframe tbody tr th:only-of-type {\n",
       "        vertical-align: middle;\n",
       "    }\n",
       "\n",
       "    .dataframe tbody tr th {\n",
       "        vertical-align: top;\n",
       "    }\n",
       "\n",
       "    .dataframe thead th {\n",
       "        text-align: right;\n",
       "    }\n",
       "</style>\n",
       "<table border=\"1\" class=\"dataframe\">\n",
       "  <thead>\n",
       "    <tr style=\"text-align: right;\">\n",
       "      <th></th>\n",
       "      <th>0</th>\n",
       "      <th>1</th>\n",
       "      <th>2</th>\n",
       "      <th>3</th>\n",
       "      <th>4</th>\n",
       "      <th>5</th>\n",
       "      <th>6</th>\n",
       "      <th>7</th>\n",
       "      <th>8</th>\n",
       "      <th>9</th>\n",
       "      <th>...</th>\n",
       "      <th>490</th>\n",
       "      <th>491</th>\n",
       "      <th>492</th>\n",
       "      <th>493</th>\n",
       "      <th>494</th>\n",
       "      <th>495</th>\n",
       "      <th>496</th>\n",
       "      <th>497</th>\n",
       "      <th>498</th>\n",
       "      <th>499</th>\n",
       "    </tr>\n",
       "  </thead>\n",
       "  <tbody>\n",
       "    <tr>\n",
       "      <th>0</th>\n",
       "      <td>1.000000</td>\n",
       "      <td>1.000000</td>\n",
       "      <td>1.000000</td>\n",
       "      <td>1.000000</td>\n",
       "      <td>1.000000</td>\n",
       "      <td>1.000000</td>\n",
       "      <td>1.000000</td>\n",
       "      <td>1.000000</td>\n",
       "      <td>1.000000</td>\n",
       "      <td>1.000000</td>\n",
       "      <td>...</td>\n",
       "      <td>1.000000</td>\n",
       "      <td>1.000000</td>\n",
       "      <td>1.000000</td>\n",
       "      <td>1.000000</td>\n",
       "      <td>1.000000</td>\n",
       "      <td>1.000000</td>\n",
       "      <td>1.000000</td>\n",
       "      <td>1.000000</td>\n",
       "      <td>1.000000</td>\n",
       "      <td>1.000000</td>\n",
       "    </tr>\n",
       "    <tr>\n",
       "      <th>1</th>\n",
       "      <td>1.013567</td>\n",
       "      <td>0.992228</td>\n",
       "      <td>1.002510</td>\n",
       "      <td>0.984705</td>\n",
       "      <td>1.010311</td>\n",
       "      <td>0.993445</td>\n",
       "      <td>0.983636</td>\n",
       "      <td>1.007187</td>\n",
       "      <td>0.991861</td>\n",
       "      <td>1.000439</td>\n",
       "      <td>...</td>\n",
       "      <td>1.005422</td>\n",
       "      <td>0.991922</td>\n",
       "      <td>0.993380</td>\n",
       "      <td>0.999063</td>\n",
       "      <td>1.004790</td>\n",
       "      <td>1.002191</td>\n",
       "      <td>1.002054</td>\n",
       "      <td>0.990651</td>\n",
       "      <td>1.003025</td>\n",
       "      <td>0.992852</td>\n",
       "    </tr>\n",
       "    <tr>\n",
       "      <th>2</th>\n",
       "      <td>1.009779</td>\n",
       "      <td>0.995427</td>\n",
       "      <td>0.990599</td>\n",
       "      <td>0.993190</td>\n",
       "      <td>1.015309</td>\n",
       "      <td>0.985588</td>\n",
       "      <td>0.974875</td>\n",
       "      <td>1.011081</td>\n",
       "      <td>0.984693</td>\n",
       "      <td>0.994347</td>\n",
       "      <td>...</td>\n",
       "      <td>1.012872</td>\n",
       "      <td>0.985080</td>\n",
       "      <td>0.979096</td>\n",
       "      <td>1.022622</td>\n",
       "      <td>0.994721</td>\n",
       "      <td>0.995668</td>\n",
       "      <td>1.008801</td>\n",
       "      <td>0.986802</td>\n",
       "      <td>1.005353</td>\n",
       "      <td>1.004018</td>\n",
       "    </tr>\n",
       "    <tr>\n",
       "      <th>3</th>\n",
       "      <td>1.000978</td>\n",
       "      <td>1.010132</td>\n",
       "      <td>0.994384</td>\n",
       "      <td>0.990603</td>\n",
       "      <td>1.031434</td>\n",
       "      <td>0.982582</td>\n",
       "      <td>0.970111</td>\n",
       "      <td>1.007445</td>\n",
       "      <td>0.962736</td>\n",
       "      <td>0.999755</td>\n",
       "      <td>...</td>\n",
       "      <td>1.007884</td>\n",
       "      <td>0.994015</td>\n",
       "      <td>0.984722</td>\n",
       "      <td>1.037346</td>\n",
       "      <td>0.991409</td>\n",
       "      <td>0.990715</td>\n",
       "      <td>1.011252</td>\n",
       "      <td>0.985873</td>\n",
       "      <td>0.998110</td>\n",
       "      <td>0.997517</td>\n",
       "    </tr>\n",
       "    <tr>\n",
       "      <th>4</th>\n",
       "      <td>1.010514</td>\n",
       "      <td>0.998132</td>\n",
       "      <td>0.990502</td>\n",
       "      <td>0.980342</td>\n",
       "      <td>1.026189</td>\n",
       "      <td>0.984628</td>\n",
       "      <td>0.963476</td>\n",
       "      <td>1.017154</td>\n",
       "      <td>0.968304</td>\n",
       "      <td>1.004699</td>\n",
       "      <td>...</td>\n",
       "      <td>1.003321</td>\n",
       "      <td>0.992987</td>\n",
       "      <td>0.982040</td>\n",
       "      <td>1.045880</td>\n",
       "      <td>0.995208</td>\n",
       "      <td>0.986110</td>\n",
       "      <td>1.021379</td>\n",
       "      <td>0.985102</td>\n",
       "      <td>0.997602</td>\n",
       "      <td>1.010391</td>\n",
       "    </tr>\n",
       "    <tr>\n",
       "      <th>...</th>\n",
       "      <td>...</td>\n",
       "      <td>...</td>\n",
       "      <td>...</td>\n",
       "      <td>...</td>\n",
       "      <td>...</td>\n",
       "      <td>...</td>\n",
       "      <td>...</td>\n",
       "      <td>...</td>\n",
       "      <td>...</td>\n",
       "      <td>...</td>\n",
       "      <td>...</td>\n",
       "      <td>...</td>\n",
       "      <td>...</td>\n",
       "      <td>...</td>\n",
       "      <td>...</td>\n",
       "      <td>...</td>\n",
       "      <td>...</td>\n",
       "      <td>...</td>\n",
       "      <td>...</td>\n",
       "      <td>...</td>\n",
       "      <td>...</td>\n",
       "    </tr>\n",
       "    <tr>\n",
       "      <th>7556</th>\n",
       "      <td>1.460997</td>\n",
       "      <td>7.660666</td>\n",
       "      <td>2.851236</td>\n",
       "      <td>4.675334</td>\n",
       "      <td>11.767924</td>\n",
       "      <td>6.276460</td>\n",
       "      <td>4.710403</td>\n",
       "      <td>1.143995</td>\n",
       "      <td>1.493100</td>\n",
       "      <td>3.123864</td>\n",
       "      <td>...</td>\n",
       "      <td>2.778175</td>\n",
       "      <td>4.453785</td>\n",
       "      <td>3.538428</td>\n",
       "      <td>4.041804</td>\n",
       "      <td>1.207845</td>\n",
       "      <td>5.694227</td>\n",
       "      <td>2.913324</td>\n",
       "      <td>3.965035</td>\n",
       "      <td>2.275387</td>\n",
       "      <td>2.753362</td>\n",
       "    </tr>\n",
       "    <tr>\n",
       "      <th>7557</th>\n",
       "      <td>1.440341</td>\n",
       "      <td>7.775772</td>\n",
       "      <td>2.875139</td>\n",
       "      <td>4.686547</td>\n",
       "      <td>11.859672</td>\n",
       "      <td>6.193703</td>\n",
       "      <td>4.787296</td>\n",
       "      <td>1.180541</td>\n",
       "      <td>1.515632</td>\n",
       "      <td>3.080960</td>\n",
       "      <td>...</td>\n",
       "      <td>2.784786</td>\n",
       "      <td>4.584655</td>\n",
       "      <td>3.519024</td>\n",
       "      <td>4.080794</td>\n",
       "      <td>1.201483</td>\n",
       "      <td>5.596446</td>\n",
       "      <td>2.913901</td>\n",
       "      <td>4.008747</td>\n",
       "      <td>2.306548</td>\n",
       "      <td>2.752416</td>\n",
       "    </tr>\n",
       "    <tr>\n",
       "      <th>7558</th>\n",
       "      <td>1.462389</td>\n",
       "      <td>7.693877</td>\n",
       "      <td>2.859259</td>\n",
       "      <td>4.697772</td>\n",
       "      <td>11.798558</td>\n",
       "      <td>6.170334</td>\n",
       "      <td>4.713984</td>\n",
       "      <td>1.181202</td>\n",
       "      <td>1.520706</td>\n",
       "      <td>3.040302</td>\n",
       "      <td>...</td>\n",
       "      <td>2.796720</td>\n",
       "      <td>4.549253</td>\n",
       "      <td>3.542683</td>\n",
       "      <td>4.060848</td>\n",
       "      <td>1.191912</td>\n",
       "      <td>5.514080</td>\n",
       "      <td>2.948785</td>\n",
       "      <td>3.994002</td>\n",
       "      <td>2.324019</td>\n",
       "      <td>2.772590</td>\n",
       "    </tr>\n",
       "    <tr>\n",
       "      <th>7559</th>\n",
       "      <td>1.428027</td>\n",
       "      <td>7.532779</td>\n",
       "      <td>2.834736</td>\n",
       "      <td>4.748299</td>\n",
       "      <td>11.895983</td>\n",
       "      <td>6.143535</td>\n",
       "      <td>4.715981</td>\n",
       "      <td>1.169673</td>\n",
       "      <td>1.522196</td>\n",
       "      <td>3.053844</td>\n",
       "      <td>...</td>\n",
       "      <td>2.782403</td>\n",
       "      <td>4.605339</td>\n",
       "      <td>3.524249</td>\n",
       "      <td>3.996265</td>\n",
       "      <td>1.170864</td>\n",
       "      <td>5.515559</td>\n",
       "      <td>2.951414</td>\n",
       "      <td>4.005888</td>\n",
       "      <td>2.326134</td>\n",
       "      <td>2.751568</td>\n",
       "    </tr>\n",
       "    <tr>\n",
       "      <th>7560</th>\n",
       "      <td>1.425874</td>\n",
       "      <td>7.548879</td>\n",
       "      <td>2.865595</td>\n",
       "      <td>4.769436</td>\n",
       "      <td>11.746982</td>\n",
       "      <td>6.054962</td>\n",
       "      <td>4.819697</td>\n",
       "      <td>1.176061</td>\n",
       "      <td>1.519851</td>\n",
       "      <td>2.998719</td>\n",
       "      <td>...</td>\n",
       "      <td>2.822862</td>\n",
       "      <td>4.596698</td>\n",
       "      <td>3.549150</td>\n",
       "      <td>3.917569</td>\n",
       "      <td>1.179822</td>\n",
       "      <td>5.494351</td>\n",
       "      <td>2.947020</td>\n",
       "      <td>4.009420</td>\n",
       "      <td>2.346135</td>\n",
       "      <td>2.711521</td>\n",
       "    </tr>\n",
       "  </tbody>\n",
       "</table>\n",
       "<p>7561 rows × 500 columns</p>\n",
       "</div>"
      ],
      "text/plain": [
       "           0         1         2         3          4         5         6    \\\n",
       "0     1.000000  1.000000  1.000000  1.000000   1.000000  1.000000  1.000000   \n",
       "1     1.013567  0.992228  1.002510  0.984705   1.010311  0.993445  0.983636   \n",
       "2     1.009779  0.995427  0.990599  0.993190   1.015309  0.985588  0.974875   \n",
       "3     1.000978  1.010132  0.994384  0.990603   1.031434  0.982582  0.970111   \n",
       "4     1.010514  0.998132  0.990502  0.980342   1.026189  0.984628  0.963476   \n",
       "...        ...       ...       ...       ...        ...       ...       ...   \n",
       "7556  1.460997  7.660666  2.851236  4.675334  11.767924  6.276460  4.710403   \n",
       "7557  1.440341  7.775772  2.875139  4.686547  11.859672  6.193703  4.787296   \n",
       "7558  1.462389  7.693877  2.859259  4.697772  11.798558  6.170334  4.713984   \n",
       "7559  1.428027  7.532779  2.834736  4.748299  11.895983  6.143535  4.715981   \n",
       "7560  1.425874  7.548879  2.865595  4.769436  11.746982  6.054962  4.819697   \n",
       "\n",
       "           7         8         9    ...       490       491       492  \\\n",
       "0     1.000000  1.000000  1.000000  ...  1.000000  1.000000  1.000000   \n",
       "1     1.007187  0.991861  1.000439  ...  1.005422  0.991922  0.993380   \n",
       "2     1.011081  0.984693  0.994347  ...  1.012872  0.985080  0.979096   \n",
       "3     1.007445  0.962736  0.999755  ...  1.007884  0.994015  0.984722   \n",
       "4     1.017154  0.968304  1.004699  ...  1.003321  0.992987  0.982040   \n",
       "...        ...       ...       ...  ...       ...       ...       ...   \n",
       "7556  1.143995  1.493100  3.123864  ...  2.778175  4.453785  3.538428   \n",
       "7557  1.180541  1.515632  3.080960  ...  2.784786  4.584655  3.519024   \n",
       "7558  1.181202  1.520706  3.040302  ...  2.796720  4.549253  3.542683   \n",
       "7559  1.169673  1.522196  3.053844  ...  2.782403  4.605339  3.524249   \n",
       "7560  1.176061  1.519851  2.998719  ...  2.822862  4.596698  3.549150   \n",
       "\n",
       "           493       494       495       496       497       498       499  \n",
       "0     1.000000  1.000000  1.000000  1.000000  1.000000  1.000000  1.000000  \n",
       "1     0.999063  1.004790  1.002191  1.002054  0.990651  1.003025  0.992852  \n",
       "2     1.022622  0.994721  0.995668  1.008801  0.986802  1.005353  1.004018  \n",
       "3     1.037346  0.991409  0.990715  1.011252  0.985873  0.998110  0.997517  \n",
       "4     1.045880  0.995208  0.986110  1.021379  0.985102  0.997602  1.010391  \n",
       "...        ...       ...       ...       ...       ...       ...       ...  \n",
       "7556  4.041804  1.207845  5.694227  2.913324  3.965035  2.275387  2.753362  \n",
       "7557  4.080794  1.201483  5.596446  2.913901  4.008747  2.306548  2.752416  \n",
       "7558  4.060848  1.191912  5.514080  2.948785  3.994002  2.324019  2.772590  \n",
       "7559  3.996265  1.170864  5.515559  2.951414  4.005888  2.326134  2.751568  \n",
       "7560  3.917569  1.179822  5.494351  2.947020  4.009420  2.346135  2.711521  \n",
       "\n",
       "[7561 rows x 500 columns]"
      ]
     },
     "execution_count": 98,
     "metadata": {},
     "output_type": "execute_result"
    }
   ],
   "source": [
    "# Run the Monte Carlo simulation to forecast 30 years cumulative returns\n",
    "MC_stock_weight.calc_cumulative_return()\n"
   ]
  },
  {
   "cell_type": "code",
   "execution_count": 101,
   "metadata": {},
   "outputs": [
    {
     "data": {
      "image/png": "[encoded data removed]",
      "text/plain": [
       "<Figure size 640x480 with 1 Axes>"
      ]
     },
     "metadata": {},
     "output_type": "display_data"
    }
   ],
   "source": [
    "# Visualize the 30-year Monte Carlo simulation by creating an\n",
    "# overlay line plot\n",
    "stock_weight_line_plot = MC_stock_weight.plot_simulation()\n"
   ]
  },
  {
   "cell_type": "markdown",
   "metadata": {},
   "source": [
    "#### Step 3: Plot the probability distribution of the Monte Carlo simulation."
   ]
  },
  {
   "cell_type": "code",
   "execution_count": 102,
   "metadata": {},
   "outputs": [
    {
     "data": {
      "image/png": "[encoded data removed]",
      "text/plain": [
       "<Figure size 640x480 with 1 Axes>"
      ]
     },
     "metadata": {},
     "output_type": "display_data"
    }
   ],
   "source": [
    "# Visualize the probability distribution of the 30-year Monte Carlo simulation \n",
    "# by plotting a histogram\n",
    "stock_distribution = MC_stock_weight.plot_distribution()\n"
   ]
  },
  {
   "cell_type": "markdown",
   "metadata": {},
   "source": [
    "#### Step 4: Generate the summary statistics for the Monte Carlo simulation."
   ]
  },
  {
   "cell_type": "code",
   "execution_count": 103,
   "metadata": {},
   "outputs": [
    {
     "name": "stdout",
     "output_type": "stream",
     "text": [
      "count           500.000000\n",
      "mean              3.888876\n",
      "std               3.267302\n",
      "min               0.251051\n",
      "25%               1.727411\n",
      "50%               2.900732\n",
      "75%               5.215455\n",
      "max              31.850986\n",
      "95% CI Lower      0.616195\n",
      "95% CI Upper     12.245801\n",
      "Name: 7560, dtype: float64\n"
     ]
    }
   ],
   "source": [
    "# Generate summary statistics from the 30-year Monte Carlo simulation results\n",
    "# Save the results as a variable\n",
    "stock_weight_table = MC_stock_weight.summarize_cumulative_return()\n",
    "\n",
    "\n",
    "# Review the 30-year Monte Carlo summary statistics\n",
    "print(stock_weight_table)"
   ]
  },
  {
   "cell_type": "markdown",
   "metadata": {},
   "source": [
    "### Analyze the Retirement Portfolio Forecasts\n",
    "\n",
    "Using the current value of only the stock and bond portion of the member's portfolio and the summary statistics that you generated from the Monte Carlo simulation, answer the following question in your Jupyter notebook:\n",
    "\n",
    "-  What are the lower and upper bounds for the expected value of the portfolio with a 95% confidence interval?\n"
   ]
  },
  {
   "cell_type": "code",
   "execution_count": 104,
   "metadata": {},
   "outputs": [
    {
     "name": "stdout",
     "output_type": "stream",
     "text": [
      "62963.299999999996\n"
     ]
    }
   ],
   "source": [
    "# Print the current balance of the stock and bond portion of the members portfolio\n",
    "print(total_stocks_bonds)\n"
   ]
  },
  {
   "cell_type": "code",
   "execution_count": 109,
   "metadata": {},
   "outputs": [
    {
     "name": "stdout",
     "output_type": "stream",
     "text": [
      "There is a 95% chance that an initial investment of $62963.30 in the portfolio with a 60% weight in SPY and 40% weight in AGG over the next 30 years will end within in the range of $38797.65 and $771036.07.\n"
     ]
    }
   ],
   "source": [
    "# Use the lower and upper `95%` confidence intervals to calculate the range of the possible outcomes for the current stock/bond portfolio\n",
    "ci_lower_thirty_cumulative_return = round(stock_weight_table[8]*total_stocks_bonds,2)\n",
    "ci_upper_thirty_cumulative_return = round(stock_weight_table[9]*total_stocks_bonds,2)\n",
    "# Print the result of your calculations\n",
    "print(f\"There is a 95% chance that an initial investment of ${total_stocks_bonds:.2f} in the portfolio\"\n",
    "      f\" with a 60% weight in SPY and 40% weight in AGG over the next 30 years will end within in the range of\"\n",
    "      f\" ${ci_lower_thirty_cumulative_return:.2f} and ${ci_upper_thirty_cumulative_return:.2f}.\")\n"
   ]
  },
  {
   "cell_type": "markdown",
   "metadata": {},
   "source": [
    "### Forecast Cumulative Returns in 10 Years\n",
    "\n",
    "The CTO of the credit union is impressed with your work on these planning tools but wonders if 30 years is a long time to wait until retirement. So, your next task is to adjust the retirement portfolio and run a new Monte Carlo simulation to find out if the changes will allow members to retire earlier.\n",
    "\n",
    "For this new Monte Carlo simulation, do the following: \n",
    "\n",
    "- Forecast the cumulative returns for 10 years from now. Because of the shortened investment horizon (30 years to 10 years), the portfolio needs to invest more heavily in the riskier asset&mdash;that is, stock&mdash;to help accumulate wealth for retirement. \n",
    "\n",
    "- Adjust the weights of the retirement portfolio so that the composition for the Monte Carlo simulation consists of 20% bonds and 80% stocks. \n",
    "\n",
    "- Run the simulation over 500 samples, and use the same data that the API call to Alpaca generated.\n",
    "\n",
    "- Based on the new Monte Carlo simulation, answer the following questions in your Jupyter notebook:\n",
    "\n",
    "    - Using the current value of only the stock and bond portion of the member's portfolio and the summary statistics that you generated from the new Monte Carlo simulation, what are the lower and upper bounds for the expected value of the portfolio (with the new weights) with a 95% confidence interval?\n",
    "\n",
    "    - Will weighting the portfolio more heavily toward stocks allow the credit union members to retire after only 10 years?\n"
   ]
  },
  {
   "cell_type": "code",
   "execution_count": 110,
   "metadata": {},
   "outputs": [
    {
     "data": {
      "text/html": [
       "<div>\n",
       "<style scoped>\n",
       "    .dataframe tbody tr th:only-of-type {\n",
       "        vertical-align: middle;\n",
       "    }\n",
       "\n",
       "    .dataframe tbody tr th {\n",
       "        vertical-align: top;\n",
       "    }\n",
       "\n",
       "    .dataframe thead tr th {\n",
       "        text-align: left;\n",
       "    }\n",
       "\n",
       "    .dataframe thead tr:last-of-type th {\n",
       "        text-align: right;\n",
       "    }\n",
       "</style>\n",
       "<table border=\"1\" class=\"dataframe\">\n",
       "  <thead>\n",
       "    <tr>\n",
       "      <th></th>\n",
       "      <th colspan=\"8\" halign=\"left\">SPY</th>\n",
       "      <th colspan=\"8\" halign=\"left\">AGG</th>\n",
       "    </tr>\n",
       "    <tr>\n",
       "      <th></th>\n",
       "      <th>open</th>\n",
       "      <th>high</th>\n",
       "      <th>low</th>\n",
       "      <th>close</th>\n",
       "      <th>volume</th>\n",
       "      <th>trade_count</th>\n",
       "      <th>vwap</th>\n",
       "      <th>daily_return</th>\n",
       "      <th>open</th>\n",
       "      <th>high</th>\n",
       "      <th>low</th>\n",
       "      <th>close</th>\n",
       "      <th>volume</th>\n",
       "      <th>trade_count</th>\n",
       "      <th>vwap</th>\n",
       "      <th>daily_return</th>\n",
       "    </tr>\n",
       "    <tr>\n",
       "      <th>timestamp</th>\n",
       "      <th></th>\n",
       "      <th></th>\n",
       "      <th></th>\n",
       "      <th></th>\n",
       "      <th></th>\n",
       "      <th></th>\n",
       "      <th></th>\n",
       "      <th></th>\n",
       "      <th></th>\n",
       "      <th></th>\n",
       "      <th></th>\n",
       "      <th></th>\n",
       "      <th></th>\n",
       "      <th></th>\n",
       "      <th></th>\n",
       "      <th></th>\n",
       "    </tr>\n",
       "  </thead>\n",
       "  <tbody>\n",
       "    <tr>\n",
       "      <th>2019-11-18 05:00:00+00:00</th>\n",
       "      <td>311.53</td>\n",
       "      <td>312.28</td>\n",
       "      <td>311.03</td>\n",
       "      <td>311.98</td>\n",
       "      <td>50249492</td>\n",
       "      <td>203344</td>\n",
       "      <td>311.812773</td>\n",
       "      <td>NaN</td>\n",
       "      <td>112.56</td>\n",
       "      <td>112.6460</td>\n",
       "      <td>112.5200</td>\n",
       "      <td>112.62</td>\n",
       "      <td>6044518</td>\n",
       "      <td>13537</td>\n",
       "      <td>112.604019</td>\n",
       "      <td>NaN</td>\n",
       "    </tr>\n",
       "    <tr>\n",
       "      <th>2019-11-19 05:00:00+00:00</th>\n",
       "      <td>312.68</td>\n",
       "      <td>312.69</td>\n",
       "      <td>311.22</td>\n",
       "      <td>311.91</td>\n",
       "      <td>71272497</td>\n",
       "      <td>230880</td>\n",
       "      <td>312.009439</td>\n",
       "      <td>-0.000224</td>\n",
       "      <td>112.63</td>\n",
       "      <td>112.7600</td>\n",
       "      <td>112.6000</td>\n",
       "      <td>112.70</td>\n",
       "      <td>2656090</td>\n",
       "      <td>10232</td>\n",
       "      <td>112.700069</td>\n",
       "      <td>0.000710</td>\n",
       "    </tr>\n",
       "    <tr>\n",
       "      <th>2019-11-20 05:00:00+00:00</th>\n",
       "      <td>311.28</td>\n",
       "      <td>311.85</td>\n",
       "      <td>309.06</td>\n",
       "      <td>310.81</td>\n",
       "      <td>79719841</td>\n",
       "      <td>381793</td>\n",
       "      <td>310.657500</td>\n",
       "      <td>-0.003527</td>\n",
       "      <td>112.83</td>\n",
       "      <td>112.9800</td>\n",
       "      <td>112.8050</td>\n",
       "      <td>112.97</td>\n",
       "      <td>3474498</td>\n",
       "      <td>14795</td>\n",
       "      <td>112.903444</td>\n",
       "      <td>0.002396</td>\n",
       "    </tr>\n",
       "    <tr>\n",
       "      <th>2019-11-21 05:00:00+00:00</th>\n",
       "      <td>310.89</td>\n",
       "      <td>311.01</td>\n",
       "      <td>309.39</td>\n",
       "      <td>310.30</td>\n",
       "      <td>54689005</td>\n",
       "      <td>239122</td>\n",
       "      <td>310.314550</td>\n",
       "      <td>-0.001641</td>\n",
       "      <td>112.80</td>\n",
       "      <td>112.8859</td>\n",
       "      <td>112.7200</td>\n",
       "      <td>112.81</td>\n",
       "      <td>6522830</td>\n",
       "      <td>14450</td>\n",
       "      <td>112.797968</td>\n",
       "      <td>-0.001416</td>\n",
       "    </tr>\n",
       "    <tr>\n",
       "      <th>2019-11-22 05:00:00+00:00</th>\n",
       "      <td>311.09</td>\n",
       "      <td>311.24</td>\n",
       "      <td>309.85</td>\n",
       "      <td>311.02</td>\n",
       "      <td>44851102</td>\n",
       "      <td>184088</td>\n",
       "      <td>310.780328</td>\n",
       "      <td>0.002320</td>\n",
       "      <td>112.89</td>\n",
       "      <td>112.9000</td>\n",
       "      <td>112.7605</td>\n",
       "      <td>112.87</td>\n",
       "      <td>2509158</td>\n",
       "      <td>9837</td>\n",
       "      <td>112.853991</td>\n",
       "      <td>0.000532</td>\n",
       "    </tr>\n",
       "  </tbody>\n",
       "</table>\n",
       "</div>"
      ],
      "text/plain": [
       "                              SPY                                    \\\n",
       "                             open    high     low   close    volume   \n",
       "timestamp                                                             \n",
       "2019-11-18 05:00:00+00:00  311.53  312.28  311.03  311.98  50249492   \n",
       "2019-11-19 05:00:00+00:00  312.68  312.69  311.22  311.91  71272497   \n",
       "2019-11-20 05:00:00+00:00  311.28  311.85  309.06  310.81  79719841   \n",
       "2019-11-21 05:00:00+00:00  310.89  311.01  309.39  310.30  54689005   \n",
       "2019-11-22 05:00:00+00:00  311.09  311.24  309.85  311.02  44851102   \n",
       "\n",
       "                                                                   AGG  \\\n",
       "                          trade_count        vwap daily_return    open   \n",
       "timestamp                                                                \n",
       "2019-11-18 05:00:00+00:00      203344  311.812773          NaN  112.56   \n",
       "2019-11-19 05:00:00+00:00      230880  312.009439    -0.000224  112.63   \n",
       "2019-11-20 05:00:00+00:00      381793  310.657500    -0.003527  112.83   \n",
       "2019-11-21 05:00:00+00:00      239122  310.314550    -0.001641  112.80   \n",
       "2019-11-22 05:00:00+00:00      184088  310.780328     0.002320  112.89   \n",
       "\n",
       "                                                                            \\\n",
       "                               high       low   close   volume trade_count   \n",
       "timestamp                                                                    \n",
       "2019-11-18 05:00:00+00:00  112.6460  112.5200  112.62  6044518       13537   \n",
       "2019-11-19 05:00:00+00:00  112.7600  112.6000  112.70  2656090       10232   \n",
       "2019-11-20 05:00:00+00:00  112.9800  112.8050  112.97  3474498       14795   \n",
       "2019-11-21 05:00:00+00:00  112.8859  112.7200  112.81  6522830       14450   \n",
       "2019-11-22 05:00:00+00:00  112.9000  112.7605  112.87  2509158        9837   \n",
       "\n",
       "                                                    \n",
       "                                 vwap daily_return  \n",
       "timestamp                                           \n",
       "2019-11-18 05:00:00+00:00  112.604019          NaN  \n",
       "2019-11-19 05:00:00+00:00  112.700069     0.000710  \n",
       "2019-11-20 05:00:00+00:00  112.903444     0.002396  \n",
       "2019-11-21 05:00:00+00:00  112.797968    -0.001416  \n",
       "2019-11-22 05:00:00+00:00  112.853991     0.000532  "
      ]
     },
     "execution_count": 110,
     "metadata": {},
     "output_type": "execute_result"
    }
   ],
   "source": [
    "# Configure a Monte Carlo simulation to forecast 10 years cumulative returns\n",
    "# The weights should be split 20% to AGG and 80% to SPY.\n",
    "# Run 500 samples.\n",
    "MC_heavy_stock = MCSimulation(\n",
    "    portfolio_data = weighted_stocks_df,\n",
    "    weights =[.8, .2],\n",
    "    num_simulation = 500,\n",
    "    num_trading_days = 252*10\n",
    ")\n",
    "\n",
    "# Review the simulation input data\n",
    "MC_heavy_stock.portfolio_data.head()\n"
   ]
  },
  {
   "cell_type": "code",
   "execution_count": 112,
   "metadata": {},
   "outputs": [
    {
     "name": "stdout",
     "output_type": "stream",
     "text": [
      "Running Monte Carlo simulation number 0.\n",
      "Running Monte Carlo simulation number 10.\n",
      "Running Monte Carlo simulation number 20.\n",
      "Running Monte Carlo simulation number 30.\n",
      "Running Monte Carlo simulation number 40.\n",
      "Running Monte Carlo simulation number 50.\n",
      "Running Monte Carlo simulation number 60.\n",
      "Running Monte Carlo simulation number 70.\n",
      "Running Monte Carlo simulation number 80.\n",
      "Running Monte Carlo simulation number 90.\n",
      "Running Monte Carlo simulation number 100.\n",
      "Running Monte Carlo simulation number 110.\n",
      "Running Monte Carlo simulation number 120.\n",
      "Running Monte Carlo simulation number 130.\n",
      "Running Monte Carlo simulation number 140.\n",
      "Running Monte Carlo simulation number 150.\n",
      "Running Monte Carlo simulation number 160.\n",
      "Running Monte Carlo simulation number 170.\n",
      "Running Monte Carlo simulation number 180.\n",
      "Running Monte Carlo simulation number 190.\n",
      "Running Monte Carlo simulation number 200.\n",
      "Running Monte Carlo simulation number 210.\n",
      "Running Monte Carlo simulation number 220.\n",
      "Running Monte Carlo simulation number 230.\n",
      "Running Monte Carlo simulation number 240.\n",
      "Running Monte Carlo simulation number 250.\n",
      "Running Monte Carlo simulation number 260.\n",
      "Running Monte Carlo simulation number 270.\n",
      "Running Monte Carlo simulation number 280.\n",
      "Running Monte Carlo simulation number 290.\n",
      "Running Monte Carlo simulation number 300.\n",
      "Running Monte Carlo simulation number 310.\n",
      "Running Monte Carlo simulation number 320.\n",
      "Running Monte Carlo simulation number 330.\n",
      "Running Monte Carlo simulation number 340.\n",
      "Running Monte Carlo simulation number 350.\n",
      "Running Monte Carlo simulation number 360.\n",
      "Running Monte Carlo simulation number 370.\n",
      "Running Monte Carlo simulation number 380.\n",
      "Running Monte Carlo simulation number 390.\n",
      "Running Monte Carlo simulation number 400.\n",
      "Running Monte Carlo simulation number 410.\n",
      "Running Monte Carlo simulation number 420.\n",
      "Running Monte Carlo simulation number 430.\n",
      "Running Monte Carlo simulation number 440.\n",
      "Running Monte Carlo simulation number 450.\n",
      "Running Monte Carlo simulation number 460.\n",
      "Running Monte Carlo simulation number 470.\n",
      "Running Monte Carlo simulation number 480.\n",
      "Running Monte Carlo simulation number 490.\n"
     ]
    },
    {
     "data": {
      "text/html": [
       "<div>\n",
       "<style scoped>\n",
       "    .dataframe tbody tr th:only-of-type {\n",
       "        vertical-align: middle;\n",
       "    }\n",
       "\n",
       "    .dataframe tbody tr th {\n",
       "        vertical-align: top;\n",
       "    }\n",
       "\n",
       "    .dataframe thead th {\n",
       "        text-align: right;\n",
       "    }\n",
       "</style>\n",
       "<table border=\"1\" class=\"dataframe\">\n",
       "  <thead>\n",
       "    <tr style=\"text-align: right;\">\n",
       "      <th></th>\n",
       "      <th>0</th>\n",
       "      <th>1</th>\n",
       "      <th>2</th>\n",
       "      <th>3</th>\n",
       "      <th>4</th>\n",
       "      <th>5</th>\n",
       "      <th>6</th>\n",
       "      <th>7</th>\n",
       "      <th>8</th>\n",
       "      <th>9</th>\n",
       "      <th>...</th>\n",
       "      <th>490</th>\n",
       "      <th>491</th>\n",
       "      <th>492</th>\n",
       "      <th>493</th>\n",
       "      <th>494</th>\n",
       "      <th>495</th>\n",
       "      <th>496</th>\n",
       "      <th>497</th>\n",
       "      <th>498</th>\n",
       "      <th>499</th>\n",
       "    </tr>\n",
       "  </thead>\n",
       "  <tbody>\n",
       "    <tr>\n",
       "      <th>0</th>\n",
       "      <td>1.000000</td>\n",
       "      <td>1.000000</td>\n",
       "      <td>1.000000</td>\n",
       "      <td>1.000000</td>\n",
       "      <td>1.000000</td>\n",
       "      <td>1.000000</td>\n",
       "      <td>1.000000</td>\n",
       "      <td>1.000000</td>\n",
       "      <td>1.000000</td>\n",
       "      <td>1.000000</td>\n",
       "      <td>...</td>\n",
       "      <td>1.000000</td>\n",
       "      <td>1.000000</td>\n",
       "      <td>1.000000</td>\n",
       "      <td>1.000000</td>\n",
       "      <td>1.000000</td>\n",
       "      <td>1.000000</td>\n",
       "      <td>1.000000</td>\n",
       "      <td>1.000000</td>\n",
       "      <td>1.000000</td>\n",
       "      <td>1.000000</td>\n",
       "    </tr>\n",
       "    <tr>\n",
       "      <th>1</th>\n",
       "      <td>1.000740</td>\n",
       "      <td>1.005652</td>\n",
       "      <td>1.010179</td>\n",
       "      <td>1.013347</td>\n",
       "      <td>0.989812</td>\n",
       "      <td>0.999436</td>\n",
       "      <td>0.994013</td>\n",
       "      <td>1.002615</td>\n",
       "      <td>1.014317</td>\n",
       "      <td>0.997705</td>\n",
       "      <td>...</td>\n",
       "      <td>0.996670</td>\n",
       "      <td>1.002058</td>\n",
       "      <td>0.998114</td>\n",
       "      <td>1.004336</td>\n",
       "      <td>1.005579</td>\n",
       "      <td>1.002437</td>\n",
       "      <td>0.983460</td>\n",
       "      <td>1.000827</td>\n",
       "      <td>0.985904</td>\n",
       "      <td>0.988377</td>\n",
       "    </tr>\n",
       "    <tr>\n",
       "      <th>2</th>\n",
       "      <td>1.000289</td>\n",
       "      <td>0.990755</td>\n",
       "      <td>0.989296</td>\n",
       "      <td>0.992348</td>\n",
       "      <td>1.001646</td>\n",
       "      <td>0.977932</td>\n",
       "      <td>0.986833</td>\n",
       "      <td>1.023645</td>\n",
       "      <td>1.027990</td>\n",
       "      <td>1.008197</td>\n",
       "      <td>...</td>\n",
       "      <td>0.992525</td>\n",
       "      <td>0.982266</td>\n",
       "      <td>0.984942</td>\n",
       "      <td>1.011691</td>\n",
       "      <td>1.017361</td>\n",
       "      <td>1.010005</td>\n",
       "      <td>0.987716</td>\n",
       "      <td>1.008726</td>\n",
       "      <td>0.971195</td>\n",
       "      <td>0.978587</td>\n",
       "    </tr>\n",
       "    <tr>\n",
       "      <th>3</th>\n",
       "      <td>0.984497</td>\n",
       "      <td>0.983868</td>\n",
       "      <td>0.976740</td>\n",
       "      <td>0.983556</td>\n",
       "      <td>1.001450</td>\n",
       "      <td>0.985465</td>\n",
       "      <td>0.989032</td>\n",
       "      <td>1.047511</td>\n",
       "      <td>1.024244</td>\n",
       "      <td>1.000498</td>\n",
       "      <td>...</td>\n",
       "      <td>0.971718</td>\n",
       "      <td>0.974400</td>\n",
       "      <td>0.969448</td>\n",
       "      <td>1.022305</td>\n",
       "      <td>1.029677</td>\n",
       "      <td>1.009786</td>\n",
       "      <td>0.978009</td>\n",
       "      <td>1.018037</td>\n",
       "      <td>0.956217</td>\n",
       "      <td>0.962774</td>\n",
       "    </tr>\n",
       "    <tr>\n",
       "      <th>4</th>\n",
       "      <td>0.974017</td>\n",
       "      <td>0.960603</td>\n",
       "      <td>0.974950</td>\n",
       "      <td>0.998392</td>\n",
       "      <td>1.006877</td>\n",
       "      <td>0.981999</td>\n",
       "      <td>0.975697</td>\n",
       "      <td>1.053716</td>\n",
       "      <td>1.023163</td>\n",
       "      <td>0.994344</td>\n",
       "      <td>...</td>\n",
       "      <td>0.982134</td>\n",
       "      <td>0.966563</td>\n",
       "      <td>0.962331</td>\n",
       "      <td>1.039470</td>\n",
       "      <td>1.035114</td>\n",
       "      <td>1.004860</td>\n",
       "      <td>0.987989</td>\n",
       "      <td>1.015589</td>\n",
       "      <td>0.936446</td>\n",
       "      <td>0.969008</td>\n",
       "    </tr>\n",
       "    <tr>\n",
       "      <th>...</th>\n",
       "      <td>...</td>\n",
       "      <td>...</td>\n",
       "      <td>...</td>\n",
       "      <td>...</td>\n",
       "      <td>...</td>\n",
       "      <td>...</td>\n",
       "      <td>...</td>\n",
       "      <td>...</td>\n",
       "      <td>...</td>\n",
       "      <td>...</td>\n",
       "      <td>...</td>\n",
       "      <td>...</td>\n",
       "      <td>...</td>\n",
       "      <td>...</td>\n",
       "      <td>...</td>\n",
       "      <td>...</td>\n",
       "      <td>...</td>\n",
       "      <td>...</td>\n",
       "      <td>...</td>\n",
       "      <td>...</td>\n",
       "      <td>...</td>\n",
       "    </tr>\n",
       "    <tr>\n",
       "      <th>2516</th>\n",
       "      <td>1.068331</td>\n",
       "      <td>0.706187</td>\n",
       "      <td>1.038236</td>\n",
       "      <td>1.302288</td>\n",
       "      <td>0.989581</td>\n",
       "      <td>2.567964</td>\n",
       "      <td>1.224595</td>\n",
       "      <td>2.261361</td>\n",
       "      <td>2.310675</td>\n",
       "      <td>3.941648</td>\n",
       "      <td>...</td>\n",
       "      <td>2.634049</td>\n",
       "      <td>2.625030</td>\n",
       "      <td>5.597139</td>\n",
       "      <td>3.331657</td>\n",
       "      <td>1.726713</td>\n",
       "      <td>2.071042</td>\n",
       "      <td>1.405704</td>\n",
       "      <td>1.638896</td>\n",
       "      <td>0.926183</td>\n",
       "      <td>2.841841</td>\n",
       "    </tr>\n",
       "    <tr>\n",
       "      <th>2517</th>\n",
       "      <td>1.056703</td>\n",
       "      <td>0.692409</td>\n",
       "      <td>1.053090</td>\n",
       "      <td>1.293761</td>\n",
       "      <td>0.996946</td>\n",
       "      <td>2.586187</td>\n",
       "      <td>1.240244</td>\n",
       "      <td>2.252196</td>\n",
       "      <td>2.329322</td>\n",
       "      <td>3.976717</td>\n",
       "      <td>...</td>\n",
       "      <td>2.624689</td>\n",
       "      <td>2.574527</td>\n",
       "      <td>5.608164</td>\n",
       "      <td>3.382357</td>\n",
       "      <td>1.722468</td>\n",
       "      <td>2.061879</td>\n",
       "      <td>1.391490</td>\n",
       "      <td>1.623575</td>\n",
       "      <td>0.933017</td>\n",
       "      <td>2.887472</td>\n",
       "    </tr>\n",
       "    <tr>\n",
       "      <th>2518</th>\n",
       "      <td>1.063512</td>\n",
       "      <td>0.695576</td>\n",
       "      <td>1.046626</td>\n",
       "      <td>1.290098</td>\n",
       "      <td>1.002040</td>\n",
       "      <td>2.579461</td>\n",
       "      <td>1.260428</td>\n",
       "      <td>2.255823</td>\n",
       "      <td>2.333200</td>\n",
       "      <td>3.901252</td>\n",
       "      <td>...</td>\n",
       "      <td>2.660225</td>\n",
       "      <td>2.534782</td>\n",
       "      <td>5.515489</td>\n",
       "      <td>3.377919</td>\n",
       "      <td>1.688093</td>\n",
       "      <td>2.041601</td>\n",
       "      <td>1.354230</td>\n",
       "      <td>1.583318</td>\n",
       "      <td>0.934423</td>\n",
       "      <td>2.848395</td>\n",
       "    </tr>\n",
       "    <tr>\n",
       "      <th>2519</th>\n",
       "      <td>1.052175</td>\n",
       "      <td>0.693791</td>\n",
       "      <td>1.033808</td>\n",
       "      <td>1.269381</td>\n",
       "      <td>1.011702</td>\n",
       "      <td>2.588622</td>\n",
       "      <td>1.266219</td>\n",
       "      <td>2.233787</td>\n",
       "      <td>2.298211</td>\n",
       "      <td>3.912226</td>\n",
       "      <td>...</td>\n",
       "      <td>2.654118</td>\n",
       "      <td>2.505356</td>\n",
       "      <td>5.634941</td>\n",
       "      <td>3.356773</td>\n",
       "      <td>1.669807</td>\n",
       "      <td>1.997967</td>\n",
       "      <td>1.337670</td>\n",
       "      <td>1.595101</td>\n",
       "      <td>0.936334</td>\n",
       "      <td>2.859442</td>\n",
       "    </tr>\n",
       "    <tr>\n",
       "      <th>2520</th>\n",
       "      <td>1.065561</td>\n",
       "      <td>0.698004</td>\n",
       "      <td>1.043398</td>\n",
       "      <td>1.269906</td>\n",
       "      <td>1.026288</td>\n",
       "      <td>2.552158</td>\n",
       "      <td>1.256369</td>\n",
       "      <td>2.204417</td>\n",
       "      <td>2.363643</td>\n",
       "      <td>3.883165</td>\n",
       "      <td>...</td>\n",
       "      <td>2.662564</td>\n",
       "      <td>2.517536</td>\n",
       "      <td>5.632674</td>\n",
       "      <td>3.409042</td>\n",
       "      <td>1.652041</td>\n",
       "      <td>2.023326</td>\n",
       "      <td>1.356868</td>\n",
       "      <td>1.629307</td>\n",
       "      <td>0.930635</td>\n",
       "      <td>2.932639</td>\n",
       "    </tr>\n",
       "  </tbody>\n",
       "</table>\n",
       "<p>2521 rows × 500 columns</p>\n",
       "</div>"
      ],
      "text/plain": [
       "           0         1         2         3         4         5         6    \\\n",
       "0     1.000000  1.000000  1.000000  1.000000  1.000000  1.000000  1.000000   \n",
       "1     1.000740  1.005652  1.010179  1.013347  0.989812  0.999436  0.994013   \n",
       "2     1.000289  0.990755  0.989296  0.992348  1.001646  0.977932  0.986833   \n",
       "3     0.984497  0.983868  0.976740  0.983556  1.001450  0.985465  0.989032   \n",
       "4     0.974017  0.960603  0.974950  0.998392  1.006877  0.981999  0.975697   \n",
       "...        ...       ...       ...       ...       ...       ...       ...   \n",
       "2516  1.068331  0.706187  1.038236  1.302288  0.989581  2.567964  1.224595   \n",
       "2517  1.056703  0.692409  1.053090  1.293761  0.996946  2.586187  1.240244   \n",
       "2518  1.063512  0.695576  1.046626  1.290098  1.002040  2.579461  1.260428   \n",
       "2519  1.052175  0.693791  1.033808  1.269381  1.011702  2.588622  1.266219   \n",
       "2520  1.065561  0.698004  1.043398  1.269906  1.026288  2.552158  1.256369   \n",
       "\n",
       "           7         8         9    ...       490       491       492  \\\n",
       "0     1.000000  1.000000  1.000000  ...  1.000000  1.000000  1.000000   \n",
       "1     1.002615  1.014317  0.997705  ...  0.996670  1.002058  0.998114   \n",
       "2     1.023645  1.027990  1.008197  ...  0.992525  0.982266  0.984942   \n",
       "3     1.047511  1.024244  1.000498  ...  0.971718  0.974400  0.969448   \n",
       "4     1.053716  1.023163  0.994344  ...  0.982134  0.966563  0.962331   \n",
       "...        ...       ...       ...  ...       ...       ...       ...   \n",
       "2516  2.261361  2.310675  3.941648  ...  2.634049  2.625030  5.597139   \n",
       "2517  2.252196  2.329322  3.976717  ...  2.624689  2.574527  5.608164   \n",
       "2518  2.255823  2.333200  3.901252  ...  2.660225  2.534782  5.515489   \n",
       "2519  2.233787  2.298211  3.912226  ...  2.654118  2.505356  5.634941   \n",
       "2520  2.204417  2.363643  3.883165  ...  2.662564  2.517536  5.632674   \n",
       "\n",
       "           493       494       495       496       497       498       499  \n",
       "0     1.000000  1.000000  1.000000  1.000000  1.000000  1.000000  1.000000  \n",
       "1     1.004336  1.005579  1.002437  0.983460  1.000827  0.985904  0.988377  \n",
       "2     1.011691  1.017361  1.010005  0.987716  1.008726  0.971195  0.978587  \n",
       "3     1.022305  1.029677  1.009786  0.978009  1.018037  0.956217  0.962774  \n",
       "4     1.039470  1.035114  1.004860  0.987989  1.015589  0.936446  0.969008  \n",
       "...        ...       ...       ...       ...       ...       ...       ...  \n",
       "2516  3.331657  1.726713  2.071042  1.405704  1.638896  0.926183  2.841841  \n",
       "2517  3.382357  1.722468  2.061879  1.391490  1.623575  0.933017  2.887472  \n",
       "2518  3.377919  1.688093  2.041601  1.354230  1.583318  0.934423  2.848395  \n",
       "2519  3.356773  1.669807  1.997967  1.337670  1.595101  0.936334  2.859442  \n",
       "2520  3.409042  1.652041  2.023326  1.356868  1.629307  0.930635  2.932639  \n",
       "\n",
       "[2521 rows x 500 columns]"
      ]
     },
     "execution_count": 112,
     "metadata": {},
     "output_type": "execute_result"
    }
   ],
   "source": [
    "# Run the Monte Carlo simulation to forecast 10 years cumulative returns\n",
    "MC_heavy_stock.calc_cumulative_return()\n"
   ]
  },
  {
   "cell_type": "code",
   "execution_count": 113,
   "metadata": {},
   "outputs": [
    {
     "data": {
      "text/plain": [
       "<AxesSubplot:title={'center':'500 Simulations of Cumulative Portfolio Return Trajectories Over the Next 2520 Trading Days.'}>"
      ]
     },
     "execution_count": 113,
     "metadata": {},
     "output_type": "execute_result"
    },
    {
     "data": {
      "image/png": "[encoded data removed]",
      "text/plain": [
       "<Figure size 640x480 with 1 Axes>"
      ]
     },
     "metadata": {},
     "output_type": "display_data"
    }
   ],
   "source": [
    "# Visualize the 10-year Monte Carlo simulation by creating an\n",
    "# overlay line plot\n",
    "heavy_stock_plot = MC_heavy_stock.plot_simulation()\n"
   ]
  },
  {
   "cell_type": "code",
   "execution_count": 117,
   "metadata": {},
   "outputs": [
    {
     "data": {
      "image/png": "[encoded data removed]",
      "text/plain": [
       "<Figure size 640x480 with 1 Axes>"
      ]
     },
     "metadata": {},
     "output_type": "display_data"
    }
   ],
   "source": [
    "# Visualize the probability distribution of the 10-year Monte Carlo simulation \n",
    "# by plotting a histogram\n",
    "heavy_stock_distrubtion = MC_heavy_stock.plot_distribution()"
   ]
  },
  {
   "cell_type": "code",
   "execution_count": 120,
   "metadata": {},
   "outputs": [
    {
     "data": {
      "text/plain": [
       "count           500.000000\n",
       "mean              2.138107\n",
       "std               1.328254\n",
       "min               0.271847\n",
       "25%               1.178550\n",
       "50%               1.811062\n",
       "75%               2.747410\n",
       "max               9.392690\n",
       "95% CI Lower      0.543907\n",
       "95% CI Upper      5.665533\n",
       "Name: 2520, dtype: float64"
      ]
     },
     "execution_count": 120,
     "metadata": {},
     "output_type": "execute_result"
    }
   ],
   "source": [
    "# Generate summary statistics from the 10-year Monte Carlo simulation results\n",
    "# Save the results as a variable\n",
    "heavy_stock_table = MC_heavy_stock.summarize_cumulative_return()\n",
    "\n",
    "\n",
    "# Review the 10-year Monte Carlo summary statistics\n",
    "heavy_stock_table"
   ]
  },
  {
   "cell_type": "markdown",
   "metadata": {},
   "source": [
    "### Answer the following questions:"
   ]
  },
  {
   "cell_type": "markdown",
   "metadata": {},
   "source": [
    "#### Question: Using the current value of only the stock and bond portion of the member's portfolio and the summary statistics that you generated from the new Monte Carlo simulation, what are the lower and upper bounds for the expected value of the portfolio (with the new weights) with a 95% confidence interval?"
   ]
  },
  {
   "cell_type": "code",
   "execution_count": 119,
   "metadata": {},
   "outputs": [
    {
     "name": "stdout",
     "output_type": "stream",
     "text": [
      "62963.299999999996\n"
     ]
    }
   ],
   "source": [
    "# Print the current balance of the stock and bond portion of the members portfolio\n",
    "print(total_stocks_bonds)\n"
   ]
  },
  {
   "cell_type": "code",
   "execution_count": 122,
   "metadata": {},
   "outputs": [
    {
     "name": "stdout",
     "output_type": "stream",
     "text": [
      "There is a 95% chance that an initial investment of $62963.30 in the portfolio with a 80% weight in SPY and 20% weight in AGG over the next 30 years will end within in the range of $34246.21 and $356720.67.\n"
     ]
    }
   ],
   "source": [
    "# Use the lower and upper `95%` confidence intervals to calculate the range of the possible outcomes for the current stock/bond portfolio\n",
    "ci_lower_ten_cumulative_return = round(heavy_stock_table[8]*total_stocks_bonds,2)\n",
    "ci_upper_ten_cumulative_return = round(heavy_stock_table[9]*total_stocks_bonds,2)\n",
    "\n",
    "# Print the result of your calculations\n",
    "print(f\"There is a 95% chance that an initial investment of ${total_stocks_bonds:.2f} in the portfolio\"\n",
    "      f\" with a 80% weight in SPY and 20% weight in AGG over the next 30 years will end within in the range of\"\n",
    "      f\" ${ci_lower_ten_cumulative_return:.2f} and ${ci_upper_ten_cumulative_return:.2f}.\")\n"
   ]
  },
  {
   "cell_type": "markdown",
   "metadata": {},
   "source": [
    "#### Question: Will weighting the portfolio more heavily to stocks allow the credit union members to retire after only 10 years?"
   ]
  },
  {
   "cell_type": "raw",
   "metadata": {},
   "source": [
    "**Answer**  No, our research found that the worst and best portfolios split 60% stocks and 40% bonds performed better than their worst and best counterpart portfolios that were spilt between 80% stocks and 20% bonds. \n",
    "In other words, a higher bond allocation had both higher upside and higher downside than a heavy stock allocation.  "
   ]
  },
  {
   "cell_type": "code",
   "execution_count": null,
   "metadata": {},
   "outputs": [],
   "source": []
  }
 ],
 "metadata": {
  "kernelspec": {
   "display_name": "Python 3.9.12 ('base')",
   "language": "python",
   "name": "python3"
  },
  "language_info": {
   "codemirror_mode": {
    "name": "ipython",
    "version": 3
   },
   "file_extension": ".py",
   "mimetype": "text/x-python",
   "name": "python",
   "nbconvert_exporter": "python",
   "pygments_lexer": "ipython3",
   "version": "3.9.12"
  },
  "vscode": {
   "interpreter": {
    "hash": "6b26c4159a79f0fda8b5fe602c1c7579565be1387ef8db9859e3188e05e7e5eb"
   }
  }
 },
 "nbformat": 4,
 "nbformat_minor": 4
}
